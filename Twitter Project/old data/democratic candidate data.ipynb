{
 "cells": [
  {
   "cell_type": "code",
   "execution_count": 1,
   "metadata": {},
   "outputs": [],
   "source": [
    "# follow the instructions from this github link:\n",
    "# https://github.com/marquisvictor/Optimized-Modified-GetOldTweets3-OMGOT\n",
    "# python GetOldTweets3.py --querysearch \"\" --since 2019-09-15 --until 2019-11-15 -- en --maxtweets 2000"
   ]
  },
  {
   "cell_type": "code",
   "execution_count": 2,
   "metadata": {},
   "outputs": [],
   "source": [
    "import pandas as pd"
   ]
  },
  {
   "cell_type": "code",
   "execution_count": 15,
   "metadata": {},
   "outputs": [
    {
     "data": {
      "text/plain": [
       "(1754, 12)"
      ]
     },
     "execution_count": 15,
     "metadata": {},
     "output_type": "execute_result"
    }
   ],
   "source": [
    "df1_0 = pd.read_csv('output_got.csv', delimiter=',') #query search: democratic primaries, date: 2019-09-15 to 2019-11-15\n",
    "df1_1 = df1_0.drop_duplicates(subset=['text'])\n",
    "df1_1.shape"
   ]
  },
  {
   "cell_type": "code",
   "execution_count": 16,
   "metadata": {},
   "outputs": [
    {
     "data": {
      "text/plain": [
       "(1885, 12)"
      ]
     },
     "execution_count": 16,
     "metadata": {},
     "output_type": "execute_result"
    }
   ],
   "source": [
    "df2_0 = pd.read_csv('output_got2.csv', delimiter=',') #query search: presidential debate\n",
    "df2_1 = df2_0.drop_duplicates(subset=['text'])\n",
    "df2_1.shape"
   ]
  },
  {
   "cell_type": "code",
   "execution_count": 17,
   "metadata": {},
   "outputs": [
    {
     "data": {
      "text/plain": [
       "(2200, 12)"
      ]
     },
     "execution_count": 17,
     "metadata": {},
     "output_type": "execute_result"
    }
   ],
   "source": [
    "df3_0 = pd.read_csv('output_got3.csv', delimiter=',') #query search: Democratic Presidential Candidate\n",
    "df3_1 = df3_0.drop_duplicates(subset=['text'])\n",
    "df3_1.shape"
   ]
  },
  {
   "cell_type": "code",
   "execution_count": 19,
   "metadata": {},
   "outputs": [
    {
     "data": {
      "text/plain": [
       "(1937, 12)"
      ]
     },
     "execution_count": 19,
     "metadata": {},
     "output_type": "execute_result"
    }
   ],
   "source": [
    "df4_0 = pd.read_csv('output_got4.csv', delimiter=',') #query search: Democratic Presidential Candidates\n",
    "df4_1 = df4_0.drop_duplicates(subset=['text'])\n",
    "df4_1.shape"
   ]
  },
  {
   "cell_type": "code",
   "execution_count": 20,
   "metadata": {},
   "outputs": [
    {
     "data": {
      "text/plain": [
       "(1675, 12)"
      ]
     },
     "execution_count": 20,
     "metadata": {},
     "output_type": "execute_result"
    }
   ],
   "source": [
    "df5_0 = pd.read_csv('output_got5.csv', delimiter=',') #query search: Democratic President Candidate\n",
    "df5_1 = df5_0.drop_duplicates(subset=['text'])\n",
    "df5_1.shape"
   ]
  },
  {
   "cell_type": "code",
   "execution_count": 21,
   "metadata": {},
   "outputs": [
    {
     "data": {
      "text/plain": [
       "(382, 12)"
      ]
     },
     "execution_count": 21,
     "metadata": {},
     "output_type": "execute_result"
    }
   ],
   "source": [
    "df6_0 = pd.read_csv('output_got6.csv', delimiter=',') #query search: Democratic President Candidates\n",
    "df6_1 = df6_0.drop_duplicates(subset=['text'])\n",
    "df6_1.shape"
   ]
  },
  {
   "cell_type": "code",
   "execution_count": 22,
   "metadata": {},
   "outputs": [
    {
     "data": {
      "text/plain": [
       "(395, 12)"
      ]
     },
     "execution_count": 22,
     "metadata": {},
     "output_type": "execute_result"
    }
   ],
   "source": [
    "df7_0 = pd.read_csv('output_got7.csv', delimiter=',') #query search: #DNC\n",
    "df7_1 = df7_0.drop_duplicates(subset=['text'])\n",
    "df7_1.shape"
   ]
  },
  {
   "cell_type": "code",
   "execution_count": 23,
   "metadata": {},
   "outputs": [
    {
     "data": {
      "text/plain": [
       "(9748, 12)"
      ]
     },
     "execution_count": 23,
     "metadata": {},
     "output_type": "execute_result"
    }
   ],
   "source": [
    "df_con = pd.concat([df1_1, df2_1, df3_1, df4_1, df5_1, df6_1, df7_1])\n",
    "df_all = df_con.drop_duplicates(subset=['text'])\n",
    "df_all.shape"
   ]
  },
  {
   "cell_type": "code",
   "execution_count": 24,
   "metadata": {},
   "outputs": [],
   "source": [
    "df_all.to_csv(\"9748_demo_primary_tweets.csv\")"
   ]
  },
  {
   "cell_type": "code",
   "execution_count": null,
   "metadata": {},
   "outputs": [],
   "source": []
  }
 ],
 "metadata": {
  "kernelspec": {
   "display_name": "p36workshop",
   "language": "python",
   "name": "p36workshop"
  },
  "language_info": {
   "codemirror_mode": {
    "name": "ipython",
    "version": 3
   },
   "file_extension": ".py",
   "mimetype": "text/x-python",
   "name": "python",
   "nbconvert_exporter": "python",
   "pygments_lexer": "ipython3",
   "version": "3.6.8"
  }
 },
 "nbformat": 4,
 "nbformat_minor": 2
}
