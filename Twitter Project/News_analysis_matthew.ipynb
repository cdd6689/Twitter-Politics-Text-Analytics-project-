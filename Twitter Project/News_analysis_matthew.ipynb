{
 "cells": [
  {
   "cell_type": "code",
   "execution_count": 1,
   "metadata": {},
   "outputs": [
    {
     "name": "stderr",
     "output_type": "stream",
     "text": [
      "[nltk_data] Downloading package punkt to\n",
      "[nltk_data]     C:\\Users\\spong\\AppData\\Roaming\\nltk_data...\n",
      "[nltk_data]   Package punkt is already up-to-date!\n",
      "[nltk_data] Downloading package wordnet to\n",
      "[nltk_data]     C:\\Users\\spong\\AppData\\Roaming\\nltk_data...\n",
      "[nltk_data]   Package wordnet is already up-to-date!\n"
     ]
    }
   ],
   "source": [
    "#Importing packages\n",
    "from selenium import webdriver\n",
    "import pandas as pd\n",
    "import numpy as np\n",
    "\n",
    "import nltk\n",
    "from nltk.tokenize import word_tokenize\n",
    "from nltk.stem import WordNetLemmatizer\n",
    "from nltk.corpus import stopwords\n",
    "from itertools import chain\n",
    "nltk.download('punkt')\n",
    "nltk.download('wordnet')\n",
    "\n",
    "import matplotlib.pyplot as plt\n",
    "%matplotlib inline  \n",
    "\n",
    "pd.set_option('display.max_rows', 500)"
   ]
  },
  {
   "cell_type": "markdown",
   "metadata": {},
   "source": [
    "### Load the data"
   ]
  },
  {
   "cell_type": "code",
   "execution_count": 11,
   "metadata": {},
   "outputs": [],
   "source": [
    "df = pd.read_csv(\"text_project_news_sub.csv\", parse_dates=['date'])\n",
    "# df = df[['Date', 'user_id', 'comments']]\n",
    "df = df.dropna()"
   ]
  },
  {
   "cell_type": "code",
   "execution_count": 12,
   "metadata": {},
   "outputs": [
    {
     "data": {
      "text/plain": [
       "(13596, 5)"
      ]
     },
     "execution_count": 12,
     "metadata": {},
     "output_type": "execute_result"
    }
   ],
   "source": [
    "df.shape"
   ]
  },
  {
   "cell_type": "code",
   "execution_count": 13,
   "metadata": {},
   "outputs": [
    {
     "data": {
      "text/html": [
       "<div>\n",
       "<style scoped>\n",
       "    .dataframe tbody tr th:only-of-type {\n",
       "        vertical-align: middle;\n",
       "    }\n",
       "\n",
       "    .dataframe tbody tr th {\n",
       "        vertical-align: top;\n",
       "    }\n",
       "\n",
       "    .dataframe thead th {\n",
       "        text-align: right;\n",
       "    }\n",
       "</style>\n",
       "<table border=\"1\" class=\"dataframe\">\n",
       "  <thead>\n",
       "    <tr style=\"text-align: right;\">\n",
       "      <th></th>\n",
       "      <th>Unnamed: 0</th>\n",
       "      <th>source</th>\n",
       "      <th>fulltext</th>\n",
       "      <th>date</th>\n",
       "      <th>polarity</th>\n",
       "    </tr>\n",
       "  </thead>\n",
       "  <tbody>\n",
       "    <tr>\n",
       "      <th>0</th>\n",
       "      <td>0</td>\n",
       "      <td>reuters</td>\n",
       "      <td>3 Min ReadTOKYO (Reuters) - The dollar rose to...</td>\n",
       "      <td>2019-08-01</td>\n",
       "      <td>0.048919</td>\n",
       "    </tr>\n",
       "    <tr>\n",
       "      <th>1</th>\n",
       "      <td>1</td>\n",
       "      <td>guardian</td>\n",
       "      <td>The head of the Chinese army in Hong Kong has ...</td>\n",
       "      <td>2019-08-01</td>\n",
       "      <td>0.028030</td>\n",
       "    </tr>\n",
       "    <tr>\n",
       "      <th>2</th>\n",
       "      <td>2</td>\n",
       "      <td>reuters</td>\n",
       "      <td>7 Min ReadTo access a PDF version of this news...</td>\n",
       "      <td>2019-08-01</td>\n",
       "      <td>0.043743</td>\n",
       "    </tr>\n",
       "    <tr>\n",
       "      <th>3</th>\n",
       "      <td>3</td>\n",
       "      <td>reuters</td>\n",
       "      <td>3 Min ReadAug 1 (Reuters) - The following are ...</td>\n",
       "      <td>2019-08-01</td>\n",
       "      <td>0.062451</td>\n",
       "    </tr>\n",
       "    <tr>\n",
       "      <th>4</th>\n",
       "      <td>4</td>\n",
       "      <td>guardian</td>\n",
       "      <td>Osama bin Laden’s son, Hamza, is believed to b...</td>\n",
       "      <td>2019-08-01</td>\n",
       "      <td>-0.047654</td>\n",
       "    </tr>\n",
       "  </tbody>\n",
       "</table>\n",
       "</div>"
      ],
      "text/plain": [
       "   Unnamed: 0    source                                           fulltext  \\\n",
       "0           0   reuters  3 Min ReadTOKYO (Reuters) - The dollar rose to...   \n",
       "1           1  guardian  The head of the Chinese army in Hong Kong has ...   \n",
       "2           2   reuters  7 Min ReadTo access a PDF version of this news...   \n",
       "3           3   reuters  3 Min ReadAug 1 (Reuters) - The following are ...   \n",
       "4           4  guardian  Osama bin Laden’s son, Hamza, is believed to b...   \n",
       "\n",
       "        date  polarity  \n",
       "0 2019-08-01  0.048919  \n",
       "1 2019-08-01  0.028030  \n",
       "2 2019-08-01  0.043743  \n",
       "3 2019-08-01  0.062451  \n",
       "4 2019-08-01 -0.047654  "
      ]
     },
     "execution_count": 13,
     "metadata": {},
     "output_type": "execute_result"
    }
   ],
   "source": [
    "df.head()"
   ]
  },
  {
   "cell_type": "markdown",
   "metadata": {},
   "source": [
    "### Preprocess comments"
   ]
  },
  {
   "cell_type": "code",
   "execution_count": 14,
   "metadata": {},
   "outputs": [
    {
     "name": "stdout",
     "output_type": "stream",
     "text": [
      "Wall time: 39.1 s\n"
     ]
    }
   ],
   "source": [
    "%%time\n",
    "# tokenization\n",
    "df['tokens'] = df['fulltext'].map(nltk.word_tokenize)\n",
    "# df['bigrams'] = df['tokens'].map(lambda x: list(nltk.bigrams(x)))\n",
    "# df['trigrams'] = df['tokens'].map(lambda x: list(nltk.trigrams(x)))\n",
    "df['tokens'] = df['tokens'].map(lambda x: set(x))\n"
   ]
  },
  {
   "cell_type": "code",
   "execution_count": 15,
   "metadata": {},
   "outputs": [
    {
     "name": "stdout",
     "output_type": "stream",
     "text": [
      "Wall time: 16.5 s\n"
     ]
    }
   ],
   "source": [
    "%%time\n",
    "\n",
    "# lemmatization\n",
    "lemmatizer = WordNetLemmatizer()\n",
    "df['lemmatized'] = df ['tokens'].map(lambda x: [lemmatizer.lemmatize(word) for word in x])\n",
    "df['lemmatized'] = df['lemmatized'].map(lambda x: set(x))\n",
    "\n",
    "# remove stop words\n",
    "stop_words = set(stopwords.words('english'))\n",
    "df['processed'] = df['lemmatized'].map(lambda x: [word for word in x if word.lower() not in stop_words])\n",
    "\n",
    "# remove punctuations\n",
    "punc = \"!\\\"#$%&'()*+,-./:;<=>?@[\\]^_`{|}~...\"\n",
    "df['processed'] = df['processed'].map(lambda x: [word for word in x if word.lower() not in punc])\n",
    "\n",
    "# remove some other stuff and return lower case\n",
    "others = [\"''\", \"``\", \"n't\", \"l\", \"oh\", \"lol\", \"'m\", \"'s\"]\n",
    "df['processed'] = df['processed'].map(lambda x: [word.lower() for word in x if word.lower() not in others])"
   ]
  },
  {
   "cell_type": "code",
   "execution_count": 20,
   "metadata": {},
   "outputs": [
    {
     "data": {
      "text/plain": [
       "72"
      ]
     },
     "execution_count": 20,
     "metadata": {},
     "output_type": "execute_result"
    }
   ],
   "source": [
    "np.sum(df['processed'].map(lambda x: 'sanders' in x))"
   ]
  },
  {
   "cell_type": "code",
   "execution_count": 6,
   "metadata": {},
   "outputs": [
    {
     "name": "stdout",
     "output_type": "stream",
     "text": [
      "Wall time: 24.8 s\n"
     ]
    }
   ],
   "source": [
    "%%time\n",
    "models = pd.read_csv(\"models (5).csv\", header = None)\n",
    "models.columns = ['brand', 'model']\n",
    "\n",
    "## clean brand list\n",
    "models.loc[(models['brand'] == 'mercedes'),'brand'] = 'mercedes-benz'\n",
    "models.loc[(models['brand'] == 'mercedes benz'),'brand'] = 'mercedes-benz'\n",
    "models.loc[(models['brand'] == 'kia.'),'brand'] = 'kia'\n",
    "models.loc[(models['brand'] == 'kia,'),'brand'] = 'kia'\n",
    "models.loc[(models['brand'] == 'hyndai kia'),'brand'] = 'kia'\n",
    "models.loc[(models['brand'] == 'hyundai,'),'brand'] = 'hyundai'\n",
    "models.loc[(models['brand'] == 'hyundai.'),'brand'] = 'hyundai'\n",
    "models.loc[(models['brand'] == 'nissan.'),'brand'] = 'nissan'\n",
    "models.loc[(models['brand'] == 'toyata'),'brand'] = 'toyota'\n",
    "models.loc[(models['brand'] == 'volkwagen'),'brand'] = 'volkswagen'\n",
    "\n",
    "def model_to_brand(word):\n",
    "    if word.lower() in models['model'].values:\n",
    "        brand = models[models['model'] == word].iloc[-1,0]\n",
    "#         print('replace ' + word + ' to ' + brand)\n",
    "        return(brand)\n",
    "    else:\n",
    "        return(word)\n",
    "\n",
    "df['processed'] = df['processed'].map(lambda x: [model_to_brand(word) for word in x])"
   ]
  },
  {
   "cell_type": "markdown",
   "metadata": {},
   "source": [
    "# Task A\n",
    "**Identify top 10 brands by frequency. From the posts, calculate lift ratios for associations between the brands. You will have to write a script to do this task). For lift calculations, be sure not to count a mention more than once per post, even if it is mentioned multiple times in the post.\n",
    "Show the brands on a multi-dimensional scaling (MDS) map (use a Python script for MDS, there are multiple scripts available on the Internet).**"
   ]
  },
  {
   "cell_type": "markdown",
   "metadata": {},
   "source": [
    "### Top 10 brands "
   ]
  },
  {
   "cell_type": "code",
   "execution_count": 7,
   "metadata": {
    "scrolled": true
   },
   "outputs": [
    {
     "data": {
      "text/plain": [
       "bmw              2551\n",
       "audi             1911\n",
       "acura            1134\n",
       "honda            1000\n",
       "infiniti          662\n",
       "volkswagen        539\n",
       "toyota            488\n",
       "mercedes-benz     411\n",
       "hyundai           396\n",
       "ford              376\n",
       "dtype: int64"
      ]
     },
     "execution_count": 7,
     "metadata": {},
     "output_type": "execute_result"
    }
   ],
   "source": [
    "all_words = pd.Series(chain(*list(df['processed'])))\n",
    "word_frequency = all_words.value_counts()\n",
    "\n",
    "brand_list = models['brand'].drop_duplicates().values\n",
    "no_use = ['car', 'sedan', 'seat', 'problem']\n",
    "brand_list = [ x for x in brand_list if x not in no_use]\n",
    "\n",
    "tmp = pd.DataFrame(word_frequency)\n",
    "tmp['word'] = word_frequency.index\n",
    "mask = tmp['word'].isin(brand_list)\n",
    "brand_frequency = word_frequency[mask]\n",
    "top10_brands = brand_frequency.head(10)\n",
    "top10_brands"
   ]
  },
  {
   "cell_type": "markdown",
   "metadata": {},
   "source": [
    "### Lift Calculations  "
   ]
  },
  {
   "cell_type": "code",
   "execution_count": 8,
   "metadata": {},
   "outputs": [
    {
     "data": {
      "text/html": [
       "<div>\n",
       "<style scoped>\n",
       "    .dataframe tbody tr th:only-of-type {\n",
       "        vertical-align: middle;\n",
       "    }\n",
       "\n",
       "    .dataframe tbody tr th {\n",
       "        vertical-align: top;\n",
       "    }\n",
       "\n",
       "    .dataframe thead th {\n",
       "        text-align: right;\n",
       "    }\n",
       "</style>\n",
       "<table border=\"1\" class=\"dataframe\">\n",
       "  <thead>\n",
       "    <tr style=\"text-align: right;\">\n",
       "      <th></th>\n",
       "      <th>bmw</th>\n",
       "      <th>audi</th>\n",
       "      <th>acura</th>\n",
       "      <th>honda</th>\n",
       "      <th>infiniti</th>\n",
       "      <th>volkswagen</th>\n",
       "      <th>toyota</th>\n",
       "      <th>mercedes-benz</th>\n",
       "      <th>hyundai</th>\n",
       "      <th>ford</th>\n",
       "    </tr>\n",
       "    <tr>\n",
       "      <th>brand</th>\n",
       "      <th></th>\n",
       "      <th></th>\n",
       "      <th></th>\n",
       "      <th></th>\n",
       "      <th></th>\n",
       "      <th></th>\n",
       "      <th></th>\n",
       "      <th></th>\n",
       "      <th></th>\n",
       "      <th></th>\n",
       "    </tr>\n",
       "  </thead>\n",
       "  <tbody>\n",
       "    <tr>\n",
       "      <th>bmw</th>\n",
       "      <td>3.889119</td>\n",
       "      <td>1.786978</td>\n",
       "      <td>1.325522</td>\n",
       "      <td>1.098865</td>\n",
       "      <td>1.894895</td>\n",
       "      <td>1.179733</td>\n",
       "      <td>1.380993</td>\n",
       "      <td>2.622126</td>\n",
       "      <td>1.247200</td>\n",
       "      <td>1.406985</td>\n",
       "    </tr>\n",
       "    <tr>\n",
       "      <th>audi</th>\n",
       "      <td>1.786978</td>\n",
       "      <td>6.082658</td>\n",
       "      <td>2.173920</td>\n",
       "      <td>1.583850</td>\n",
       "      <td>2.593196</td>\n",
       "      <td>2.580048</td>\n",
       "      <td>1.508753</td>\n",
       "      <td>3.480728</td>\n",
       "      <td>1.803823</td>\n",
       "      <td>1.224836</td>\n",
       "    </tr>\n",
       "    <tr>\n",
       "      <th>acura</th>\n",
       "      <td>1.325522</td>\n",
       "      <td>2.173920</td>\n",
       "      <td>8.882840</td>\n",
       "      <td>3.260322</td>\n",
       "      <td>3.298343</td>\n",
       "      <td>1.392939</td>\n",
       "      <td>1.553917</td>\n",
       "      <td>2.617041</td>\n",
       "      <td>1.531524</td>\n",
       "      <td>1.121724</td>\n",
       "    </tr>\n",
       "    <tr>\n",
       "      <th>honda</th>\n",
       "      <td>1.098865</td>\n",
       "      <td>1.583850</td>\n",
       "      <td>3.260322</td>\n",
       "      <td>10.396122</td>\n",
       "      <td>1.409297</td>\n",
       "      <td>2.138020</td>\n",
       "      <td>3.202983</td>\n",
       "      <td>1.737595</td>\n",
       "      <td>1.828284</td>\n",
       "      <td>2.022454</td>\n",
       "    </tr>\n",
       "    <tr>\n",
       "      <th>infiniti</th>\n",
       "      <td>1.894895</td>\n",
       "      <td>2.593196</td>\n",
       "      <td>3.298343</td>\n",
       "      <td>1.409297</td>\n",
       "      <td>14.746562</td>\n",
       "      <td>1.250994</td>\n",
       "      <td>1.617116</td>\n",
       "      <td>3.467322</td>\n",
       "      <td>2.034009</td>\n",
       "      <td>1.258239</td>\n",
       "    </tr>\n",
       "    <tr>\n",
       "      <th>volkswagen</th>\n",
       "      <td>1.179733</td>\n",
       "      <td>2.580048</td>\n",
       "      <td>1.392939</td>\n",
       "      <td>2.138020</td>\n",
       "      <td>1.250994</td>\n",
       "      <td>19.295630</td>\n",
       "      <td>2.367871</td>\n",
       "      <td>1.639855</td>\n",
       "      <td>2.195710</td>\n",
       "      <td>2.831782</td>\n",
       "    </tr>\n",
       "    <tr>\n",
       "      <th>toyota</th>\n",
       "      <td>1.380993</td>\n",
       "      <td>1.508753</td>\n",
       "      <td>1.553917</td>\n",
       "      <td>3.202983</td>\n",
       "      <td>1.617116</td>\n",
       "      <td>2.367871</td>\n",
       "      <td>19.597911</td>\n",
       "      <td>1.998654</td>\n",
       "      <td>3.041055</td>\n",
       "      <td>2.742370</td>\n",
       "    </tr>\n",
       "    <tr>\n",
       "      <th>mercedes-benz</th>\n",
       "      <td>2.622126</td>\n",
       "      <td>3.480728</td>\n",
       "      <td>2.617041</td>\n",
       "      <td>1.737595</td>\n",
       "      <td>3.467322</td>\n",
       "      <td>1.639855</td>\n",
       "      <td>1.998654</td>\n",
       "      <td>21.263456</td>\n",
       "      <td>2.126346</td>\n",
       "      <td>2.177146</td>\n",
       "    </tr>\n",
       "    <tr>\n",
       "      <th>hyundai</th>\n",
       "      <td>1.247200</td>\n",
       "      <td>1.803823</td>\n",
       "      <td>1.531524</td>\n",
       "      <td>1.828284</td>\n",
       "      <td>2.034009</td>\n",
       "      <td>2.195710</td>\n",
       "      <td>3.041055</td>\n",
       "      <td>2.126346</td>\n",
       "      <td>25.882759</td>\n",
       "      <td>2.031752</td>\n",
       "    </tr>\n",
       "    <tr>\n",
       "      <th>ford</th>\n",
       "      <td>1.406985</td>\n",
       "      <td>1.224836</td>\n",
       "      <td>1.121724</td>\n",
       "      <td>2.022454</td>\n",
       "      <td>1.258239</td>\n",
       "      <td>2.831782</td>\n",
       "      <td>2.742370</td>\n",
       "      <td>2.177146</td>\n",
       "      <td>2.031752</td>\n",
       "      <td>25.617747</td>\n",
       "    </tr>\n",
       "  </tbody>\n",
       "</table>\n",
       "</div>"
      ],
      "text/plain": [
       "                    bmw      audi     acura      honda   infiniti  volkswagen  \\\n",
       "brand                                                                           \n",
       "bmw            3.889119  1.786978  1.325522   1.098865   1.894895    1.179733   \n",
       "audi           1.786978  6.082658  2.173920   1.583850   2.593196    2.580048   \n",
       "acura          1.325522  2.173920  8.882840   3.260322   3.298343    1.392939   \n",
       "honda          1.098865  1.583850  3.260322  10.396122   1.409297    2.138020   \n",
       "infiniti       1.894895  2.593196  3.298343   1.409297  14.746562    1.250994   \n",
       "volkswagen     1.179733  2.580048  1.392939   2.138020   1.250994   19.295630   \n",
       "toyota         1.380993  1.508753  1.553917   3.202983   1.617116    2.367871   \n",
       "mercedes-benz  2.622126  3.480728  2.617041   1.737595   3.467322    1.639855   \n",
       "hyundai        1.247200  1.803823  1.531524   1.828284   2.034009    2.195710   \n",
       "ford           1.406985  1.224836  1.121724   2.022454   1.258239    2.831782   \n",
       "\n",
       "                  toyota  mercedes-benz    hyundai       ford  \n",
       "brand                                                          \n",
       "bmw             1.380993       2.622126   1.247200   1.406985  \n",
       "audi            1.508753       3.480728   1.803823   1.224836  \n",
       "acura           1.553917       2.617041   1.531524   1.121724  \n",
       "honda           3.202983       1.737595   1.828284   2.022454  \n",
       "infiniti        1.617116       3.467322   2.034009   1.258239  \n",
       "volkswagen      2.367871       1.639855   2.195710   2.831782  \n",
       "toyota         19.597911       1.998654   3.041055   2.742370  \n",
       "mercedes-benz   1.998654      21.263456   2.126346   2.177146  \n",
       "hyundai         3.041055       2.126346  25.882759   2.031752  \n",
       "ford            2.742370       2.177146   2.031752  25.617747  "
      ]
     },
     "execution_count": 8,
     "metadata": {},
     "output_type": "execute_result"
    }
   ],
   "source": [
    "def lift(a, b):\n",
    "    N = df['processed'].shape[0]\n",
    "    N_ab = sum(df['processed'].map(lambda x: a in x and b in x))\n",
    "    N_a = sum(df['processed'].map(lambda x: a in x))\n",
    "    N_b = sum(df['processed'].map(lambda x: b in x))\n",
    "    if N_a*N_b == 0:\n",
    "        return(None)\n",
    "    else:\n",
    "        return(N*N_ab/(N_a*N_b))\n",
    "\n",
    "lift_brands = pd.DataFrame(top10_brands.index.values, columns=['brand'])\n",
    "for make in top10_brands.index.values:\n",
    "    lift_brands[make] = lift_brands['brand'].map(lambda x: lift(x, make))\n",
    "lift_brands = lift_brands.set_index('brand')\n",
    "lift_brands"
   ]
  },
  {
   "cell_type": "markdown",
   "metadata": {},
   "source": [
    "### MDS map"
   ]
  },
  {
   "cell_type": "code",
   "execution_count": 9,
   "metadata": {},
   "outputs": [
    {
     "name": "stderr",
     "output_type": "stream",
     "text": [
      "C:\\Users\\spong\\Anaconda3\\envs\\test\\lib\\site-packages\\sklearn\\manifold\\mds.py:421: UserWarning: The MDS API has changed. ``fit`` now constructs an dissimilarity matrix from data. To use a custom dissimilarity matrix, set ``dissimilarity='precomputed'``.\n",
      "  warnings.warn(\"The MDS API has changed. ``fit`` now constructs an\"\n"
     ]
    },
    {
     "data": {
      "image/png": "[encoded data removed]",
      "text/plain": [
       "<Figure size 432x288 with 1 Axes>"
      ]
     },
     "metadata": {
      "needs_background": "light"
     },
     "output_type": "display_data"
    }
   ],
   "source": [
    "from sklearn.manifold import MDS\n",
    "inverse_lift_brands = lift_brands.apply(lambda x: 1/x)\n",
    "embedding = MDS(n_components=2, random_state=4)\n",
    "mds = embedding.fit_transform(inverse_lift_brands)\n",
    "mds_output = pd.DataFrame(mds, index=inverse_lift_brands.index.values, columns=['x', 'y'])\n",
    "\n",
    "fig, ax = plt.subplots()\n",
    "ax.scatter(mds_output['x'], mds_output['y'])\n",
    "for brand in inverse_lift_brands.index.values:\n",
    "    ax.text(mds_output.loc[brand, 'x']+0.02, mds_output.loc[brand, 'y']+0.02, brand)"
   ]
  },
  {
   "cell_type": "markdown",
   "metadata": {},
   "source": [
    "# Task B\n",
    "**What insights can you offer brand managers from your analysis in Task A (choose two brands that you can offer the most interesting/useful insights for)?**\n",
    "\n",
    "#### (1) Volkswagen: a suspicious luxury brand\n",
    "Noticing that Volkswagen has a strong accociation with Audi looking at lift, we firstly hypothesized that volkswagen may have been percieved as a luxury brand in recent years. However, with further examined, we found that Volkswagen is not strongly associated with the other mentioned luxury brands and is much more associated with the non-luxury Japanese and American brands. This can be seen through the MDS plot, Volkswagen is much more associated with Ford, Toyota, Honda, and Hyundai than the luxury brands. Through researching these two brands, Audi cars are manufactured under the Volkswagen group, that is most likely why they are associated since many of the low end Audis have the same basic parts and consumers are comparing them. \n",
    "\n",
    "#### (2) Mercedes-bendz: the middle man \n",
    "Mercedes-bends, looking at the MDS plot is definintely apart of the luxury brand cluster. Mercedes-bends also has high lift values with the other luxury brands, but it also has pretty high lift values with non-luxury brands hyundai (2.126346) and Ford (2.177146). This might have been caused by the non-luxury brands users wanting to upgrade to a luxury brand car and Mercedes-bendz is the brand they are considering the most. "
   ]
  },
  {
   "cell_type": "markdown",
   "metadata": {},
   "source": [
    "# Task C\n",
    "**What are 5 most frequently mentioned attributes of cars in the discussions? Note that the same attribute may be described by different words – e.g., pick-up and acceleration may both refer to a more general attribute, “performance”. You have to make suitable replacements. Now pick the 5 most frequently mentioned brands. Which attributes are most strongly associated with which of these 5 brands? You DON’T have to do a sentiment analysis for this assignment.\n",
    "Here we need to re-do the attribute_dict. I will produce a big table of brands and attributes.**"
   ]
  },
  {
   "cell_type": "markdown",
   "metadata": {},
   "source": [
    "#### Attributes extraction:\n",
    "\n",
    "1. We went through 300 most frequently mentioned words and grouped them into attributes based on our interpretation of the meaning of the words.\n",
    "2. Then we filtered words that either not has lift than 1 with other words. For example, lift('mpg', 'oil') was 0.8, so we removed 'oil' from fuel efficiency.\n",
    "3. Next, we removed words that have a different level of lift with a specific brand. For example, lift('speed', 'bmw') was 0.9, and lift('performance', 'bmw') was 2.3, the word 'speed' might not be a good proxy of performance, so we removed the word 'speed'. "
   ]
  },
  {
   "cell_type": "code",
   "execution_count": 20,
   "metadata": {},
   "outputs": [],
   "source": [
    "# Initial attribute_dict\n",
    "\n",
    "attribute_dict = { \n",
    "    'performance': ['drive', 'engine', 'driving', 'performance', 'power', 'speed'],\n",
    "    \n",
    "    'fuel_efficiency': ['mile', 'oil' , 'mpg', 'gas'],\n",
    "    \n",
    "    'look': ['look', 'pretty', 'looking', 'wheel', 'tire', 'sport'],\n",
    "    \n",
    "    'luxury': ['luxury', 'premium'],\n",
    "    \n",
    "    'reliability': ['issue', 'problem'],\n",
    "            \n",
    "    'size': ['size', 'sedan', 'big', 'little', 'small', 'size']}"
   ]
  },
  {
   "cell_type": "code",
   "execution_count": 19,
   "metadata": {
    "scrolled": false
   },
   "outputs": [],
   "source": [
    "# this block is for step 2 and 3 of attributes extraction\n",
    "# we comment out the print of dataframe to keep the notebook clean\n",
    "\n",
    "n_b = 5 # top n brands we want to look at\n",
    "\n",
    "for attribute in attribute_dict:\n",
    "    tolook = list(top10_brands[:n_b].index.values)\n",
    "    tolook = tolook + attribute_dict[attribute]\n",
    "\n",
    "    lift_df = pd.DataFrame(tolook, columns=['to_check'])\n",
    "    for make in tolook:\n",
    "        lift_df[make] = lift_df['to_check'].map(lambda x: lift(x, make))\n",
    "    lift_df = lift_df.set_index('to_check')\n",
    "#     display(lift_df)"
   ]
  },
  {
   "cell_type": "code",
   "execution_count": 21,
   "metadata": {},
   "outputs": [],
   "source": [
    "# this is the final attribute_dict\n",
    "\n",
    "attribute_dict = { \n",
    "    'performance': ['drive', 'engine', 'driving', 'performance', 'power'],\n",
    "    \n",
    "    'fuel_efficiency': ['mile', 'mpg', 'gas'],\n",
    "    \n",
    "    'look': ['look', 'pretty', 'looking', 'wheel', 'tire', 'sport'],\n",
    "    \n",
    "    'luxury': ['luxury', 'premium'],\n",
    "    \n",
    "    'issue_problem': ['issue', 'problem'],\n",
    "            \n",
    "    'size': ['size', 'small']}"
   ]
  },
  {
   "cell_type": "markdown",
   "metadata": {},
   "source": [
    "### Top 5 attributes"
   ]
  },
  {
   "cell_type": "code",
   "execution_count": 22,
   "metadata": {},
   "outputs": [
    {
     "data": {
      "text/html": [
       "<div>\n",
       "<style scoped>\n",
       "    .dataframe tbody tr th:only-of-type {\n",
       "        vertical-align: middle;\n",
       "    }\n",
       "\n",
       "    .dataframe tbody tr th {\n",
       "        vertical-align: top;\n",
       "    }\n",
       "\n",
       "    .dataframe thead th {\n",
       "        text-align: right;\n",
       "    }\n",
       "</style>\n",
       "<table border=\"1\" class=\"dataframe\">\n",
       "  <thead>\n",
       "    <tr style=\"text-align: right;\">\n",
       "      <th></th>\n",
       "      <th>attribute_terms</th>\n",
       "      <th>count</th>\n",
       "    </tr>\n",
       "  </thead>\n",
       "  <tbody>\n",
       "    <tr>\n",
       "      <th>performance</th>\n",
       "      <td>[drive, engine, driving, performance, power]</td>\n",
       "      <td>2253</td>\n",
       "    </tr>\n",
       "    <tr>\n",
       "      <th>look</th>\n",
       "      <td>[look, pretty, looking, wheel, tire, sport]</td>\n",
       "      <td>2252</td>\n",
       "    </tr>\n",
       "    <tr>\n",
       "      <th>fuel_efficiency</th>\n",
       "      <td>[mile, mpg, gas]</td>\n",
       "      <td>987</td>\n",
       "    </tr>\n",
       "    <tr>\n",
       "      <th>issue_problem</th>\n",
       "      <td>[issue, problem]</td>\n",
       "      <td>793</td>\n",
       "    </tr>\n",
       "    <tr>\n",
       "      <th>luxury</th>\n",
       "      <td>[luxury, premium]</td>\n",
       "      <td>684</td>\n",
       "    </tr>\n",
       "  </tbody>\n",
       "</table>\n",
       "</div>"
      ],
      "text/plain": [
       "                                              attribute_terms  count\n",
       "performance      [drive, engine, driving, performance, power]   2253\n",
       "look              [look, pretty, looking, wheel, tire, sport]   2252\n",
       "fuel_efficiency                              [mile, mpg, gas]    987\n",
       "issue_problem                                [issue, problem]    793\n",
       "luxury                                      [luxury, premium]    684"
      ]
     },
     "execution_count": 22,
     "metadata": {},
     "output_type": "execute_result"
    }
   ],
   "source": [
    "def count_attribute(df, attribute_terms):\n",
    "    return(np.sum(df['processed'].map(lambda x: len([term for term in attribute_terms if term in x])>=1 )))\n",
    "\n",
    "top_attributes = pd.DataFrame(pd.Series(attribute_dict), columns=['attribute_terms'])\n",
    "top_attributes['count'] = top_attributes['attribute_terms'].map(lambda x: count_attribute(df, x))\n",
    "\n",
    "top_attributes = top_attributes.sort_values(by=['count'], ascending=False)\n",
    "top_attributes[:5]"
   ]
  },
  {
   "cell_type": "markdown",
   "metadata": {},
   "source": [
    "### Top 5 attributes and top 5 brands"
   ]
  },
  {
   "cell_type": "code",
   "execution_count": 14,
   "metadata": {},
   "outputs": [],
   "source": [
    "def lift_attribute_to_brands(attribute, attribute_dict, brand_list, df, bigram=False):\n",
    "    '''\n",
    "    attribute is a string\n",
    "    \n",
    "    attribute_dict is the dictionary whose keys are attibutes and values are words(attribute_terms).\n",
    "    \n",
    "    df is the processed dataframe contains processed comments \n",
    "    '''\n",
    "    attribute_terms = attribute_dict[attribute]\n",
    "    output = dict()\n",
    "    for brand in brand_list.index.values:\n",
    "        if bigram == True:\n",
    "            mask = df['processed'].map(lambda x: len([term for term in attribute_terms if term in x])>=1) | \\\n",
    "                df['bigrams'].map(lambda x: len([term for term in attribute_terms if term in x])>=1) | \\\n",
    "                df['trigrams'].map(lambda x: len([term for term in attribute_terms if term in x])>=1)\n",
    "            df_a = df[mask]\n",
    "        else:\n",
    "            df_a = df[df['processed'].map(lambda x: len([term for term in attribute_terms if term in x])>=1)]\n",
    "        N_a = df_a.shape[0] # count of comments w/ attribute\n",
    "        N_b = sum(df['processed'].map(lambda x: brand in x)) # count of comments w/ brand\n",
    "        N = df['processed'].shape[0]\n",
    "        N_ab = sum(df_a['processed'].map(lambda x: brand in x)) # count of cooments w/ attribute and brand\n",
    "        \n",
    "        try:\n",
    "            output[brand] = N*N_ab/(N_a*N_b)\n",
    "        except:\n",
    "            output[brand] = None\n",
    "#         print(brand, N_a, N_b, N, N_ab)    \n",
    "    return(output)"
   ]
  },
  {
   "cell_type": "code",
   "execution_count": 15,
   "metadata": {
    "scrolled": false
   },
   "outputs": [
    {
     "data": {
      "text/html": [
       "<div>\n",
       "<style scoped>\n",
       "    .dataframe tbody tr th:only-of-type {\n",
       "        vertical-align: middle;\n",
       "    }\n",
       "\n",
       "    .dataframe tbody tr th {\n",
       "        vertical-align: top;\n",
       "    }\n",
       "\n",
       "    .dataframe thead th {\n",
       "        text-align: right;\n",
       "    }\n",
       "</style>\n",
       "<table border=\"1\" class=\"dataframe\">\n",
       "  <thead>\n",
       "    <tr style=\"text-align: right;\">\n",
       "      <th></th>\n",
       "      <th>performance</th>\n",
       "      <th>look</th>\n",
       "      <th>fuel_efficiency</th>\n",
       "      <th>issue_problem</th>\n",
       "      <th>luxury</th>\n",
       "    </tr>\n",
       "  </thead>\n",
       "  <tbody>\n",
       "    <tr>\n",
       "      <th>0</th>\n",
       "      <td>(audi, 1.6037)</td>\n",
       "      <td>(audi, 1.5801)</td>\n",
       "      <td>(honda, 1.6853)</td>\n",
       "      <td>(audi, 1.8179)</td>\n",
       "      <td>(audi, 2.3388)</td>\n",
       "    </tr>\n",
       "    <tr>\n",
       "      <th>1</th>\n",
       "      <td>(infiniti, 1.5512)</td>\n",
       "      <td>(infiniti, 1.4864)</td>\n",
       "      <td>(audi, 1.4667)</td>\n",
       "      <td>(bmw, 1.5056)</td>\n",
       "      <td>(infiniti, 2.3068)</td>\n",
       "    </tr>\n",
       "    <tr>\n",
       "      <th>2</th>\n",
       "      <td>(bmw, 1.4966)</td>\n",
       "      <td>(acura, 1.4752)</td>\n",
       "      <td>(acura, 1.44)</td>\n",
       "      <td>(infiniti, 1.4877)</td>\n",
       "      <td>(honda, 2.1735)</td>\n",
       "    </tr>\n",
       "    <tr>\n",
       "      <th>3</th>\n",
       "      <td>(honda, 1.4489)</td>\n",
       "      <td>(honda, 1.468)</td>\n",
       "      <td>(bmw, 1.1979)</td>\n",
       "      <td>(honda, 1.4814)</td>\n",
       "      <td>(acura, 2.1688)</td>\n",
       "    </tr>\n",
       "    <tr>\n",
       "      <th>4</th>\n",
       "      <td>(acura, 1.4115)</td>\n",
       "      <td>(bmw, 1.4403)</td>\n",
       "      <td>(infiniti, 1.1953)</td>\n",
       "      <td>(acura, 1.4338)</td>\n",
       "      <td>(bmw, 1.7399)</td>\n",
       "    </tr>\n",
       "  </tbody>\n",
       "</table>\n",
       "</div>"
      ],
      "text/plain": [
       "          performance                look     fuel_efficiency  \\\n",
       "0      (audi, 1.6037)      (audi, 1.5801)     (honda, 1.6853)   \n",
       "1  (infiniti, 1.5512)  (infiniti, 1.4864)      (audi, 1.4667)   \n",
       "2       (bmw, 1.4966)     (acura, 1.4752)       (acura, 1.44)   \n",
       "3     (honda, 1.4489)      (honda, 1.468)       (bmw, 1.1979)   \n",
       "4     (acura, 1.4115)       (bmw, 1.4403)  (infiniti, 1.1953)   \n",
       "\n",
       "        issue_problem              luxury  \n",
       "0      (audi, 1.8179)      (audi, 2.3388)  \n",
       "1       (bmw, 1.5056)  (infiniti, 2.3068)  \n",
       "2  (infiniti, 1.4877)     (honda, 2.1735)  \n",
       "3     (honda, 1.4814)     (acura, 2.1688)  \n",
       "4     (acura, 1.4338)       (bmw, 1.7399)  "
      ]
     },
     "execution_count": 15,
     "metadata": {},
     "output_type": "execute_result"
    }
   ],
   "source": [
    "brand_list = top10_brands[:5]\n",
    "output = pd.DataFrame(top_attributes.index.values[:5], columns=['attribute'])\n",
    "\n",
    "for attribute in top_attributes.index.values[:5]:\n",
    "    tmp = lift_attribute_to_brands(attribute, attribute_dict, brand_list, df)\n",
    "    tmp = pd.Series(tmp).sort_values(ascending=False)\n",
    "    output[attribute] = list(zip(tmp.index.values, np.round((tmp.values), 4)))\n",
    "\n",
    "output = output[top_attributes.index.values[:5]]\n",
    "output"
   ]
  },
  {
   "cell_type": "markdown",
   "metadata": {},
   "source": [
    "## Task D\n",
    "**What advice will you give to a (i) product manager, and (ii) marketing/advertising manager of these brands based on your analysis in Task C? For this assignment, you can assume the sentiment (e.g., that it is positive).**\n",
    "\n",
    "#### (1) Audi: a luxury brand with great performance, stylish look, and -- a lot of issues?\n",
    "Audi seems to be doing great in almost all the attributes ranging from luxury to fuel efficiency. But, it is at the top of the “issue problem” attribute. They have to take this negative aspect seriously as the majority of the customers would have paid a good amount to get an Audi.\n",
    "\n",
    "They can offer programs that can help in easing the process of fixing any issues faced by the buyer. Like, offer services to towing the vehicle from the customer home and offering them a replacement meanwhile the car gets repaired. \n",
    "\n",
    "If they can manage to make the repair process easier and more personalized for the customer, they can be at the top of all the major attributes. This will further strengthen their foothold in the luxury market.\n",
    "\n",
    "\n",
    "#### (2) BMW: something's wrong with their entry-level models!\n",
    "Though BMW claims the title of “The Ultimate Driving Machine”, the lift calculations show that Audi and Infiniti are still leading in “performance”.  If the tagline must genuinely reflect what BMW offers, the performance factor must be improved. This is both the product and the marketing managers’ problems. The product manager needs to find out why consumers do not highly rate BMW’s performance and using this knowledge, change the models to reflect better performance. Then the marketing managers need to advertise/communicate this change to consumers. \n",
    "\n",
    "Upon considering other attributes, BMW does not score well either. For example, BMW scores low on the “look” attribute. BMW, being the luxury brand it is, needs to have a look at their designs as well, as luxury brands are sought out based on their designs along with the performance. \n"
   ]
  },
  {
   "cell_type": "markdown",
   "metadata": {},
   "source": [
    "## Task E\n",
    "**Which is the most aspirational brand in your data in terms of people actually wanting to buy or own? Describe your analysis. What are the business implications for this brand?**\n",
    "\n",
    "Infiniti is the most aspirational brand in our data. We used unigrams, bigrams, and trigrams that could be synonyms for aspiration in our scoring. This is an opportunity for Infiniti since many people want to buy their cars and looking at the lift values, Infiniti is mainly being compared with other luxury brands. If Infiniti can differentiate itself from the other luxury brands especially Mercedes-Benz, since Mercedes-Benz has the second-highest aspiration score. By advertise this difference, Infiniti could increase its market share, especially in non-US markets. This is because Infiniti has low market share in non-US markets. "
   ]
  },
  {
   "cell_type": "code",
   "execution_count": 16,
   "metadata": {},
   "outputs": [],
   "source": [
    "aspiration_dict = { 'aspiration': [(\"dream\", \"of\"), (\"love\", \"to\"), (\"the\", \"best\"), (\"would\", \"love\"), \n",
    "                                   (\"must\", \"have\"), (\"must\", \"get\"), (\"first\", \"chance\"), \n",
    "                                  ('dream', 'car'), 'dreamed', 'dreaming', ('dream', 'of'), \n",
    "                                   ('dream', 'to'), (\"couldn't\", 'afford'),\n",
    "                                   'wish','best', ('wanted', 'to'), ('future', 'car'),\n",
    "                                  ( 'love', 'to', 'have'), ('would', 'like', 'to'), ('want', 'to', 'get'), \n",
    "                                   ('want', 'to', 'have'), ('wish', 'to', 'buy')] }"
   ]
  },
  {
   "cell_type": "code",
   "execution_count": 17,
   "metadata": {},
   "outputs": [
    {
     "name": "stdout",
     "output_type": "stream",
     "text": [
      "infiniti         2.115719\n",
      "mercedes-benz    1.891441\n",
      "toyota           1.771404\n",
      "audi             1.727929\n",
      "hyundai          1.671053\n",
      "honda            1.670539\n",
      "acura            1.656771\n",
      "bmw              1.411689\n",
      "ford             1.286401\n",
      "volkswagen       1.273456\n",
      "dtype: float64\n"
     ]
    }
   ],
   "source": [
    "brand_list = top10_brands\n",
    "\n",
    "output = lift_attribute_to_brands('aspiration', aspiration_dict, brand_list, df, bigram=True)\n",
    "output = pd.Series(output).sort_values(ascending=False)\n",
    "print(output)"
   ]
  }
 ],
 "metadata": {
  "kernelspec": {
   "display_name": "Python 3",
   "language": "python",
   "name": "python3"
  },
  "language_info": {
   "codemirror_mode": {
    "name": "ipython",
    "version": 3
   },
   "file_extension": ".py",
   "mimetype": "text/x-python",
   "name": "python",
   "nbconvert_exporter": "python",
   "pygments_lexer": "ipython3",
   "version": "3.6.8"
  }
 },
 "nbformat": 4,
 "nbformat_minor": 2
}
