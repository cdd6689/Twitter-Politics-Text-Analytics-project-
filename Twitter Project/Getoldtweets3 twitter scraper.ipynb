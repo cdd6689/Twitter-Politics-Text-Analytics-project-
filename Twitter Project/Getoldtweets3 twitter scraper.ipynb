{
 "cells": [
  {
   "cell_type": "code",
   "execution_count": 31,
   "metadata": {},
   "outputs": [],
   "source": [
    "import GetOldTweets3 as got\n",
    "import pandas as pd"
   ]
  },
  {
   "cell_type": "code",
   "execution_count": 39,
   "metadata": {},
   "outputs": [],
   "source": [
    "tweetCriteria = got.manager.TweetCriteria().setQuerySearch('presidential primaries')\\\n",
    "                                           .setSince(\"2019-11-01\")\\\n",
    "                                           .setUntil(\"2019-11-23\")\\\n",
    "                                           .setMaxTweets(10)"
   ]
  },
  {
   "cell_type": "code",
   "execution_count": 40,
   "metadata": {},
   "outputs": [
    {
     "name": "stdout",
     "output_type": "stream",
     "text": [
      "10\n"
     ]
    }
   ],
   "source": [
    "tweet = got.manager.TweetManager.getTweets(tweetCriteria)\n",
    "length = len(tweet)"
   ]
  },
  {
   "cell_type": "code",
   "execution_count": 41,
   "metadata": {},
   "outputs": [
    {
     "name": "stdout",
     "output_type": "stream",
     "text": [
      "1\n",
      "2\n",
      "3\n",
      "4\n",
      "5\n",
      "6\n",
      "7\n",
      "8\n",
      "9\n",
      "10\n"
     ]
    }
   ],
   "source": [
    "all_tweets = pd.DataFrame(columns = ['date','tweet_id', 'username', 'tweet'])\n",
    "\n",
    "x = 0\n",
    "while x < length:\n",
    "    tweet = got.manager.TweetManager.getTweets(tweetCriteria)[x]\n",
    "    tweet_date = tweet.date\n",
    "    tweet_id = tweet.id\n",
    "    tweet_username = tweet.username\n",
    "    tweet_txt = tweet.text\n",
    "    \n",
    "    all_tweets.loc[len(all_tweets)] = [tweet_date,tweet_id,tweet_username, tweet_txt]\n",
    "    x += 1\n",
    "    print(x)"
   ]
  },
  {
   "cell_type": "code",
   "execution_count": 42,
   "metadata": {},
   "outputs": [
    {
     "data": {
      "text/html": [
       "<div>\n",
       "<style scoped>\n",
       "    .dataframe tbody tr th:only-of-type {\n",
       "        vertical-align: middle;\n",
       "    }\n",
       "\n",
       "    .dataframe tbody tr th {\n",
       "        vertical-align: top;\n",
       "    }\n",
       "\n",
       "    .dataframe thead th {\n",
       "        text-align: right;\n",
       "    }\n",
       "</style>\n",
       "<table border=\"1\" class=\"dataframe\">\n",
       "  <thead>\n",
       "    <tr style=\"text-align: right;\">\n",
       "      <th></th>\n",
       "      <th>date</th>\n",
       "      <th>tweet_id</th>\n",
       "      <th>username</th>\n",
       "      <th>tweet</th>\n",
       "    </tr>\n",
       "  </thead>\n",
       "  <tbody>\n",
       "    <tr>\n",
       "      <th>0</th>\n",
       "      <td>2019-11-22 19:57:14+00:00</td>\n",
       "      <td>1197967291390005250</td>\n",
       "      <td>drewyanggang</td>\n",
       "      <td>Is @LibertyMutual supporting @MSNBC's distorti...</td>\n",
       "    </tr>\n",
       "    <tr>\n",
       "      <th>1</th>\n",
       "      <td>2019-11-22 19:15:04+00:00</td>\n",
       "      <td>1197956680912449541</td>\n",
       "      <td>AlexPadilla4CA</td>\n",
       "      <td>California's Primary is 102 days away and the ...</td>\n",
       "    </tr>\n",
       "    <tr>\n",
       "      <th>2</th>\n",
       "      <td>2019-11-22 16:12:37+00:00</td>\n",
       "      <td>1197910767279976449</td>\n",
       "      <td>OrangePaulp</td>\n",
       "      <td>every Presidential candidate that drops out of...</td>\n",
       "    </tr>\n",
       "    <tr>\n",
       "      <th>3</th>\n",
       "      <td>2019-11-21 18:40:55+00:00</td>\n",
       "      <td>1197585698959720448</td>\n",
       "      <td>jennfranconews</td>\n",
       "      <td>#NEW: The California Supreme Court rules unani...</td>\n",
       "    </tr>\n",
       "    <tr>\n",
       "      <th>4</th>\n",
       "      <td>2019-11-21 18:00:48+00:00</td>\n",
       "      <td>1197575602162692096</td>\n",
       "      <td>reappropriate</td>\n",
       "      <td>This is a Public Service Announcement thread. ...</td>\n",
       "    </tr>\n",
       "    <tr>\n",
       "      <th>5</th>\n",
       "      <td>2019-11-21 17:41:26+00:00</td>\n",
       "      <td>1197570731028164609</td>\n",
       "      <td>ExpatsForPete</td>\n",
       "      <td>Democrats Abroad for Pete are organized and ga...</td>\n",
       "    </tr>\n",
       "    <tr>\n",
       "      <th>6</th>\n",
       "      <td>2019-11-21 13:25:11+00:00</td>\n",
       "      <td>1197506241368666112</td>\n",
       "      <td>Fly_Sistah</td>\n",
       "      <td>Biden has never won a presidential campaign. P...</td>\n",
       "    </tr>\n",
       "    <tr>\n",
       "      <th>7</th>\n",
       "      <td>2019-11-21 12:26:31+00:00</td>\n",
       "      <td>1197491477573709825</td>\n",
       "      <td>realDonaldTrump</td>\n",
       "      <td>Why do @ShannonBream &amp; @FoxNews waste airtime ...</td>\n",
       "    </tr>\n",
       "    <tr>\n",
       "      <th>8</th>\n",
       "      <td>2019-11-21 03:49:02+00:00</td>\n",
       "      <td>1197361251766063104</td>\n",
       "      <td>davidsirota</td>\n",
       "      <td>Electability: - Bernie turned a GOP U.S. House...</td>\n",
       "    </tr>\n",
       "    <tr>\n",
       "      <th>9</th>\n",
       "      <td>2019-11-21 02:43:45+00:00</td>\n",
       "      <td>1197344818915094528</td>\n",
       "      <td>IBJIYONGI</td>\n",
       "      <td>Hopefully the Trump era has disabused people o...</td>\n",
       "    </tr>\n",
       "  </tbody>\n",
       "</table>\n",
       "</div>"
      ],
      "text/plain": [
       "                        date             tweet_id         username  \\\n",
       "0  2019-11-22 19:57:14+00:00  1197967291390005250     drewyanggang   \n",
       "1  2019-11-22 19:15:04+00:00  1197956680912449541   AlexPadilla4CA   \n",
       "2  2019-11-22 16:12:37+00:00  1197910767279976449      OrangePaulp   \n",
       "3  2019-11-21 18:40:55+00:00  1197585698959720448   jennfranconews   \n",
       "4  2019-11-21 18:00:48+00:00  1197575602162692096    reappropriate   \n",
       "5  2019-11-21 17:41:26+00:00  1197570731028164609    ExpatsForPete   \n",
       "6  2019-11-21 13:25:11+00:00  1197506241368666112       Fly_Sistah   \n",
       "7  2019-11-21 12:26:31+00:00  1197491477573709825  realDonaldTrump   \n",
       "8  2019-11-21 03:49:02+00:00  1197361251766063104      davidsirota   \n",
       "9  2019-11-21 02:43:45+00:00  1197344818915094528        IBJIYONGI   \n",
       "\n",
       "                                               tweet  \n",
       "0  Is @LibertyMutual supporting @MSNBC's distorti...  \n",
       "1  California's Primary is 102 days away and the ...  \n",
       "2  every Presidential candidate that drops out of...  \n",
       "3  #NEW: The California Supreme Court rules unani...  \n",
       "4  This is a Public Service Announcement thread. ...  \n",
       "5  Democrats Abroad for Pete are organized and ga...  \n",
       "6  Biden has never won a presidential campaign. P...  \n",
       "7  Why do @ShannonBream & @FoxNews waste airtime ...  \n",
       "8  Electability: - Bernie turned a GOP U.S. House...  \n",
       "9  Hopefully the Trump era has disabused people o...  "
      ]
     },
     "execution_count": 42,
     "metadata": {},
     "output_type": "execute_result"
    }
   ],
   "source": [
    "all_tweets"
   ]
  },
  {
   "cell_type": "code",
   "execution_count": null,
   "metadata": {},
   "outputs": [],
   "source": []
  }
 ],
 "metadata": {
  "kernelspec": {
   "display_name": "p36workshop",
   "language": "python",
   "name": "p36workshop"
  },
  "language_info": {
   "codemirror_mode": {
    "name": "ipython",
    "version": 3
   },
   "file_extension": ".py",
   "mimetype": "text/x-python",
   "name": "python",
   "nbconvert_exporter": "python",
   "pygments_lexer": "ipython3",
   "version": "3.6.8"
  }
 },
 "nbformat": 4,
 "nbformat_minor": 2
}
