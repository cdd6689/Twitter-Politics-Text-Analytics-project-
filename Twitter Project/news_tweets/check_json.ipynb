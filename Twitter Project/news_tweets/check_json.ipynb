{
 "cells": [
  {
   "cell_type": "code",
   "execution_count": 180,
   "metadata": {},
   "outputs": [],
   "source": [
    "import pandas as pd"
   ]
  },
  {
   "cell_type": "code",
   "execution_count": 181,
   "metadata": {},
   "outputs": [],
   "source": [
    "platforms = ['CNNPolitics', \n",
    "             'nytpolitics',\n",
    "             'postpolitics' ,\n",
    "             'usatodayDC' ,\n",
    "             'ReutersPolitics' ,\n",
    "             'politico' ,\n",
    "             'nprpolitics']"
   ]
  },
  {
   "cell_type": "code",
   "execution_count": 182,
   "metadata": {},
   "outputs": [
    {
     "name": "stdout",
     "output_type": "stream",
     "text": [
      "CNNPolitics (5780, 3)\n",
      "nytpolitics (8002, 3)\n",
      "postpolitics (13006, 3)\n",
      "usatodayDC (20618, 3)\n",
      "ReutersPolitics (28815, 3)\n",
      "politico (44642, 3)\n",
      "nprpolitics (63823, 3)\n"
     ]
    }
   ],
   "source": [
    "df_con = pd.DataFrame()\n",
    "\n",
    "for platform in platforms:\n",
    "    df = pd.read_csv('{}_file.csv'.format(platform), parse_dates=['created_at'])\n",
    "    df = df[['text', 'created_at']]\n",
    "    df = df.drop_duplicates(subset=['text'])\n",
    "    df['source'] = platform\n",
    "    df_con = pd.concat([df_con, df], ignore_index=True)\n",
    "    print(platform, df_con.shape)"
   ]
  },
  {
   "cell_type": "code",
   "execution_count": 183,
   "metadata": {},
   "outputs": [
    {
     "data": {
      "text/html": [
       "<div>\n",
       "<style scoped>\n",
       "    .dataframe tbody tr th:only-of-type {\n",
       "        vertical-align: middle;\n",
       "    }\n",
       "\n",
       "    .dataframe tbody tr th {\n",
       "        vertical-align: top;\n",
       "    }\n",
       "\n",
       "    .dataframe thead th {\n",
       "        text-align: right;\n",
       "    }\n",
       "</style>\n",
       "<table border=\"1\" class=\"dataframe\">\n",
       "  <thead>\n",
       "    <tr style=\"text-align: right;\">\n",
       "      <th></th>\n",
       "      <th>text</th>\n",
       "      <th>created_at</th>\n",
       "      <th>source</th>\n",
       "    </tr>\n",
       "  </thead>\n",
       "  <tbody>\n",
       "    <tr>\n",
       "      <th>0</th>\n",
       "      <td>JUST IN: The US economy added 164,000 jobs in ...</td>\n",
       "      <td>2019-08-02 12:42:16+00:00</td>\n",
       "      <td>CNNPolitics</td>\n",
       "    </tr>\n",
       "    <tr>\n",
       "      <th>1</th>\n",
       "      <td>Dayton mayor \"at a loss\" for why President Tru...</td>\n",
       "      <td>2019-08-08 14:43:03+00:00</td>\n",
       "      <td>CNNPolitics</td>\n",
       "    </tr>\n",
       "    <tr>\n",
       "      <th>2</th>\n",
       "      <td>Hillary Clinton says staying in her marriage w...</td>\n",
       "      <td>2019-10-01 15:46:30+00:00</td>\n",
       "      <td>CNNPolitics</td>\n",
       "    </tr>\n",
       "    <tr>\n",
       "      <th>3</th>\n",
       "      <td>Fire crews, air drops and a herd of goats help...</td>\n",
       "      <td>2019-10-31 21:35:04+00:00</td>\n",
       "      <td>CNNPolitics</td>\n",
       "    </tr>\n",
       "    <tr>\n",
       "      <th>4</th>\n",
       "      <td>Elizabeth Warren slams Michael Bloomberg: He's...</td>\n",
       "      <td>2019-11-27 00:11:04+00:00</td>\n",
       "      <td>CNNPolitics</td>\n",
       "    </tr>\n",
       "  </tbody>\n",
       "</table>\n",
       "</div>"
      ],
      "text/plain": [
       "                                                text  \\\n",
       "0  JUST IN: The US economy added 164,000 jobs in ...   \n",
       "1  Dayton mayor \"at a loss\" for why President Tru...   \n",
       "2  Hillary Clinton says staying in her marriage w...   \n",
       "3  Fire crews, air drops and a herd of goats help...   \n",
       "4  Elizabeth Warren slams Michael Bloomberg: He's...   \n",
       "\n",
       "                  created_at       source  \n",
       "0  2019-08-02 12:42:16+00:00  CNNPolitics  \n",
       "1  2019-08-08 14:43:03+00:00  CNNPolitics  \n",
       "2  2019-10-01 15:46:30+00:00  CNNPolitics  \n",
       "3  2019-10-31 21:35:04+00:00  CNNPolitics  \n",
       "4  2019-11-27 00:11:04+00:00  CNNPolitics  "
      ]
     },
     "execution_count": 183,
     "metadata": {},
     "output_type": "execute_result"
    }
   ],
   "source": [
    "df_con.head()"
   ]
  },
  {
   "cell_type": "code",
   "execution_count": 184,
   "metadata": {},
   "outputs": [],
   "source": [
    "df_con['date'] = df_con['created_at'].map(lambda x: x.date())"
   ]
  },
  {
   "cell_type": "code",
   "execution_count": 185,
   "metadata": {},
   "outputs": [
    {
     "data": {
      "text/plain": [
       "datetime.date(2019, 8, 1)"
      ]
     },
     "execution_count": 185,
     "metadata": {},
     "output_type": "execute_result"
    }
   ],
   "source": [
    "df_con['date'].min()"
   ]
  },
  {
   "cell_type": "code",
   "execution_count": 186,
   "metadata": {},
   "outputs": [
    {
     "data": {
      "text/plain": [
       "datetime.date(2019, 11, 29)"
      ]
     },
     "execution_count": 186,
     "metadata": {},
     "output_type": "execute_result"
    }
   ],
   "source": [
    "df_con['date'].max()"
   ]
  },
  {
   "cell_type": "code",
   "execution_count": 190,
   "metadata": {},
   "outputs": [],
   "source": [
    "df_all = df_con.drop_duplicates(subset=['text'])"
   ]
  },
  {
   "cell_type": "code",
   "execution_count": 191,
   "metadata": {},
   "outputs": [
    {
     "data": {
      "text/plain": [
       "politico           7630\n",
       "CNNPolitics        5780\n",
       "nprpolitics        3354\n",
       "postpolitics       2782\n",
       "usatodayDC         2608\n",
       "nytpolitics        2222\n",
       "ReutersPolitics     585\n",
       "Name: source, dtype: int64"
      ]
     },
     "execution_count": 191,
     "metadata": {},
     "output_type": "execute_result"
    }
   ],
   "source": [
    "df_all['source'].value_counts()"
   ]
  },
  {
   "cell_type": "code",
   "execution_count": 192,
   "metadata": {},
   "outputs": [
    {
     "data": {
      "text/plain": [
       "(24961, 4)"
      ]
     },
     "execution_count": 192,
     "metadata": {},
     "output_type": "execute_result"
    }
   ],
   "source": [
    "df_all.shape"
   ]
  },
  {
   "cell_type": "code",
   "execution_count": 198,
   "metadata": {},
   "outputs": [
    {
     "data": {
      "text/html": [
       "<div>\n",
       "<style scoped>\n",
       "    .dataframe tbody tr th:only-of-type {\n",
       "        vertical-align: middle;\n",
       "    }\n",
       "\n",
       "    .dataframe tbody tr th {\n",
       "        vertical-align: top;\n",
       "    }\n",
       "\n",
       "    .dataframe thead th {\n",
       "        text-align: right;\n",
       "    }\n",
       "</style>\n",
       "<table border=\"1\" class=\"dataframe\">\n",
       "  <thead>\n",
       "    <tr style=\"text-align: right;\">\n",
       "      <th></th>\n",
       "      <th>text</th>\n",
       "      <th>created_at</th>\n",
       "      <th>source</th>\n",
       "      <th>date</th>\n",
       "    </tr>\n",
       "  </thead>\n",
       "  <tbody>\n",
       "    <tr>\n",
       "      <th>0</th>\n",
       "      <td>JUST IN: The US economy added 164,000 jobs in ...</td>\n",
       "      <td>2019-08-02 12:42:16+00:00</td>\n",
       "      <td>CNNPolitics</td>\n",
       "      <td>2019-08-02</td>\n",
       "    </tr>\n",
       "    <tr>\n",
       "      <th>1</th>\n",
       "      <td>Dayton mayor \"at a loss\" for why President Tru...</td>\n",
       "      <td>2019-08-08 14:43:03+00:00</td>\n",
       "      <td>CNNPolitics</td>\n",
       "      <td>2019-08-08</td>\n",
       "    </tr>\n",
       "    <tr>\n",
       "      <th>2</th>\n",
       "      <td>Hillary Clinton says staying in her marriage w...</td>\n",
       "      <td>2019-10-01 15:46:30+00:00</td>\n",
       "      <td>CNNPolitics</td>\n",
       "      <td>2019-10-01</td>\n",
       "    </tr>\n",
       "    <tr>\n",
       "      <th>3</th>\n",
       "      <td>Fire crews, air drops and a herd of goats help...</td>\n",
       "      <td>2019-10-31 21:35:04+00:00</td>\n",
       "      <td>CNNPolitics</td>\n",
       "      <td>2019-10-31</td>\n",
       "    </tr>\n",
       "    <tr>\n",
       "      <th>4</th>\n",
       "      <td>Elizabeth Warren slams Michael Bloomberg: He's...</td>\n",
       "      <td>2019-11-27 00:11:04+00:00</td>\n",
       "      <td>CNNPolitics</td>\n",
       "      <td>2019-11-27</td>\n",
       "    </tr>\n",
       "  </tbody>\n",
       "</table>\n",
       "</div>"
      ],
      "text/plain": [
       "                                                text  \\\n",
       "0  JUST IN: The US economy added 164,000 jobs in ...   \n",
       "1  Dayton mayor \"at a loss\" for why President Tru...   \n",
       "2  Hillary Clinton says staying in her marriage w...   \n",
       "3  Fire crews, air drops and a herd of goats help...   \n",
       "4  Elizabeth Warren slams Michael Bloomberg: He's...   \n",
       "\n",
       "                  created_at       source        date  \n",
       "0  2019-08-02 12:42:16+00:00  CNNPolitics  2019-08-02  \n",
       "1  2019-08-08 14:43:03+00:00  CNNPolitics  2019-08-08  \n",
       "2  2019-10-01 15:46:30+00:00  CNNPolitics  2019-10-01  \n",
       "3  2019-10-31 21:35:04+00:00  CNNPolitics  2019-10-31  \n",
       "4  2019-11-27 00:11:04+00:00  CNNPolitics  2019-11-27  "
      ]
     },
     "execution_count": 198,
     "metadata": {},
     "output_type": "execute_result"
    }
   ],
   "source": [
    "df_all.head()"
   ]
  },
  {
   "cell_type": "code",
   "execution_count": 203,
   "metadata": {},
   "outputs": [],
   "source": [
    "df_all.to_csv('news_file.csv', index_label=False)"
   ]
  },
  {
   "cell_type": "markdown",
   "metadata": {},
   "source": [
    "## test"
   ]
  },
  {
   "cell_type": "code",
   "execution_count": 215,
   "metadata": {},
   "outputs": [],
   "source": [
    "df = pd.read_csv('news_file.csv')\n",
    "df['date'] = pd.to_datetime(df['created_at'])"
   ]
  }
 ],
 "metadata": {
  "kernelspec": {
   "display_name": "Python 3",
   "language": "python",
   "name": "python3"
  },
  "language_info": {
   "codemirror_mode": {
    "name": "ipython",
    "version": 3
   },
   "file_extension": ".py",
   "mimetype": "text/x-python",
   "name": "python",
   "nbconvert_exporter": "python",
   "pygments_lexer": "ipython3",
   "version": "3.6.8"
  }
 },
 "nbformat": 4,
 "nbformat_minor": 2
}
