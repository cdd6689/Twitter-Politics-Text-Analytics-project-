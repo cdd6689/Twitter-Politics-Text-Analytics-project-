{
 "cells": [
  {
   "cell_type": "code",
   "execution_count": 136,
   "metadata": {},
   "outputs": [],
   "source": [
    "import requests\n",
    "from lxml import html\n",
    "from bs4 import BeautifulSoup\n",
    "import re"
   ]
  },
  {
   "cell_type": "code",
   "execution_count": 142,
   "metadata": {},
   "outputs": [],
   "source": [
    "#three list for df\n",
    "Content = []\n",
    "User = []\n",
    "Time= []\n",
    "\n",
    "for back in range(0,200):\n",
    "    #get the page number and format url\n",
    "    current = 434 - back\n",
    "    base = 'https://forums.edmunds.com/discussion/2864/general/x/entry-level-luxury-performance-sedans/p{}'\n",
    "    url = base.format(current)\n",
    "    \n",
    "    #start scraping this page\n",
    "    page = requests.get(url)\n",
    "    soup = BeautifulSoup(page.content, 'html.parser')\n",
    "    content = list(soup.find_all('div',class_= 'Message userContent'))\n",
    "    user = list(soup.find_all('a', class_ = 'Username'))\n",
    "    time = list(soup.find_all('time'))\n",
    "    \n",
    "    for i in range(0,len(content)):\n",
    "        Content.append(content[i].text)\n",
    "        User.append(user[i].text)\n",
    "        Time.append(time[i].text)"
   ]
  },
  {
   "cell_type": "code",
   "execution_count": 168,
   "metadata": {},
   "outputs": [
    {
     "name": "stdout",
     "output_type": "stream",
     "text": [
      "February 2014\n"
     ]
    }
   ],
   "source": [
    "import pandas as pd\n",
    "#make the dataframe\n",
    "df = pd.DataFrame({'time': Time})\n",
    "df['user'] = User\n",
    "df['comment'] = Content\n",
    "for i in range(0,len(df)):\n",
    "    df['comment'][i] = df['comment'][i].replace('\\n','')\n",
    "    \n",
    "new = df.set_index('time')\n"
   ]
  },
  {
   "cell_type": "code",
   "execution_count": 169,
   "metadata": {},
   "outputs": [],
   "source": [
    "#export to csv\n",
    "new.to_csv(\"comments10000.csv\")"
   ]
  },
  {
   "cell_type": "code",
   "execution_count": null,
   "metadata": {},
   "outputs": [],
   "source": []
  }
 ],
 "metadata": {
  "kernelspec": {
   "display_name": "Python 3",
   "language": "python",
   "name": "python3"
  },
  "language_info": {
   "codemirror_mode": {
    "name": "ipython",
    "version": 3
   },
   "file_extension": ".py",
   "mimetype": "text/x-python",
   "name": "python",
   "nbconvert_exporter": "python",
   "pygments_lexer": "ipython3",
   "version": "3.7.4"
  }
 },
 "nbformat": 4,
 "nbformat_minor": 2
}
