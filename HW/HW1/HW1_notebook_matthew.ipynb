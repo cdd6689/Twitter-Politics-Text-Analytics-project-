{
 "cells": [
  {
   "cell_type": "code",
   "execution_count": 6,
   "metadata": {},
   "outputs": [],
   "source": [
    "#Importing packages\n",
    "from selenium import webdriver\n",
    "import pandas as pd"
   ]
  },
  {
   "cell_type": "code",
   "execution_count": 65,
   "metadata": {},
   "outputs": [],
   "source": [
    "#change directory where you put your chrome driver\n",
    "options = webdriver.ChromeOptions()\n",
    "options.add_argument('headless')\n",
    "driver = webdriver.Chrome(\"chromedriver\", options=options)"
   ]
  },
  {
   "cell_type": "code",
   "execution_count": 67,
   "metadata": {},
   "outputs": [
    {
     "name": "stdout",
     "output_type": "stream",
     "text": [
      "page 334\n",
      "page 335\n",
      "page 336\n",
      "page 337\n",
      "page 338\n",
      "page 339\n",
      "page 340\n",
      "page 341\n",
      "page 342\n",
      "page 343\n",
      "page 344\n",
      "page 345\n",
      "page 346\n",
      "page 347\n",
      "page 348\n",
      "page 349\n",
      "page 350\n",
      "page 351\n",
      "page 352\n",
      "page 353\n",
      "page 354\n",
      "page 355\n",
      "page 356\n",
      "page 357\n",
      "page 358\n",
      "page 359\n",
      "page 360\n",
      "page 361\n",
      "page 362\n",
      "page 363\n",
      "page 364\n",
      "page 365\n",
      "page 366\n",
      "page 367\n",
      "page 368\n",
      "page 369\n",
      "page 370\n",
      "page 371\n",
      "page 372\n",
      "page 373\n",
      "page 374\n",
      "page 375\n",
      "page 376\n",
      "page 377\n",
      "page 378\n",
      "page 379\n",
      "page 380\n",
      "page 381\n",
      "page 382\n",
      "page 383\n",
      "page 384\n",
      "page 385\n",
      "page 386\n",
      "page 387\n",
      "page 388\n",
      "page 389\n",
      "page 390\n",
      "page 391\n",
      "page 392\n",
      "page 393\n",
      "page 394\n",
      "page 395\n",
      "page 396\n",
      "page 397\n",
      "page 398\n",
      "page 399\n",
      "page 400\n",
      "page 401\n",
      "page 402\n",
      "page 403\n",
      "page 404\n",
      "page 405\n",
      "page 406\n",
      "page 407\n",
      "page 408\n",
      "page 409\n",
      "page 410\n",
      "page 411\n",
      "page 412\n",
      "page 413\n",
      "page 414\n",
      "page 415\n",
      "page 416\n",
      "page 417\n",
      "page 418\n",
      "page 419\n",
      "page 420\n",
      "page 421\n",
      "page 422\n",
      "page 423\n",
      "page 424\n",
      "page 425\n",
      "page 426\n",
      "page 427\n",
      "page 428\n",
      "page 429\n",
      "page 430\n",
      "page 431\n",
      "page 432\n",
      "page 433\n",
      "page 434\n",
      "Wall time: 7h 26min 3s\n"
     ]
    }
   ],
   "source": [
    "%%time\n",
    "all_comments = pd.DataFrame(columns = ['Date','user_id', 'comments']) \n",
    "\n",
    "x = 334\n",
    "pages_scraped = 434\n",
    "while x <= pages_scraped:\n",
    "    print(\"page\",x)\n",
    "    \n",
    "    if x > 1:\n",
    "        driver.find_element_by_link_text(\"{}\".format(x)).click()\n",
    "        driver.implicitly_wait(3)\n",
    "    \n",
    "    ids = driver.find_elements_by_xpath(\"//*[contains(@id,'Comment_')]\")\n",
    "    comment_ids = []\n",
    "    for i in ids:\n",
    "        comment_ids.append(i.get_attribute('id'))\n",
    "\n",
    "    for d in comment_ids:\n",
    "\n",
    "        #Extract dates from for each user on a page\n",
    "        user_date = driver.find_elements_by_xpath('//*[@id=\"' + d +'\"]/div/div[2]/div[2]/span[1]/a/time')[0]\n",
    "        date = user_date.get_attribute('title')\n",
    "\n",
    "        #Extract user ids from each user on a page\n",
    "        userid_element = driver.find_elements_by_xpath('//*[@id=\"' + d +'\"]/div/div[2]/div[1]/span[1]/a[2]')[0]\n",
    "        userid = userid_element.text\n",
    "\n",
    "        #Extract Message for each user on a page\n",
    "        if driver.find_elements_by_xpath('//*[@id=\"' + d +'\"]/div/div[3]/div/div[1]/p'):\n",
    "            user_message = driver.find_elements_by_xpath('//*[@id=\"' + d +'\"]/div/div[3]/div/div[1]/p')[0]\n",
    "            comment = user_message.text\n",
    "        elif driver.find_elements_by_xpath('//*[@id=\"' + d +'\"]/div/div[3]/div/div[1]/ul/li'):\n",
    "            user_message = driver.find_elements_by_xpath('//*[@id=\"' + d +'\"]/div/div[3]/div/div[1]/ul/li')[0]\n",
    "            comment = user_message.text\n",
    "        elif driver.find_elements_by_xpath('//*[@id=\"' + d +'\"]/div/div[3]/div/div[1]'):\n",
    "            user_message = driver.find_elements_by_xpath('//*[@id=\"' + d +'\"]/div/div[3]/div/div[1]')[0]\n",
    "            comment = user_message.text\n",
    "        else: \n",
    "            comment = None\n",
    "        \n",
    "        #Adding date, userid and comment for each user in a dataframe    \n",
    "        all_comments.loc[len(all_comments)] = [date,userid,comment]\n",
    "        \n",
    "    x += 1"
   ]
  },
  {
   "cell_type": "code",
   "execution_count": 68,
   "metadata": {},
   "outputs": [
    {
     "data": {
      "text/plain": [
       "(5014, 3)"
      ]
     },
     "execution_count": 68,
     "metadata": {},
     "output_type": "execute_result"
    }
   ],
   "source": [
    "all_comments.shape"
   ]
  },
  {
   "cell_type": "code",
   "execution_count": 69,
   "metadata": {},
   "outputs": [],
   "source": [
    "# all_comments.to_csv(\"5000_comments_edmunds.csv\", sep=\"\\t\")"
   ]
  },
  {
   "cell_type": "markdown",
   "metadata": {},
   "source": [
    "#### check the data"
   ]
  },
  {
   "cell_type": "code",
   "execution_count": 76,
   "metadata": {},
   "outputs": [],
   "source": [
    "import pandas as pd\n",
    "df = pd.read_csv(\"5000_comments_edmunds.csv\", '\\t', parse_dates=['Date'])"
   ]
  },
  {
   "cell_type": "code",
   "execution_count": 77,
   "metadata": {},
   "outputs": [
    {
     "data": {
      "text/plain": [
       "68"
      ]
     },
     "execution_count": 77,
     "metadata": {},
     "output_type": "execute_result"
    }
   ],
   "source": [
    "len(df['user_id'].value_counts())"
   ]
  },
  {
   "cell_type": "code",
   "execution_count": 79,
   "metadata": {},
   "outputs": [
    {
     "data": {
      "text/plain": [
       "Timestamp('2014-02-20 14:06:00')"
      ]
     },
     "execution_count": 79,
     "metadata": {},
     "output_type": "execute_result"
    }
   ],
   "source": [
    "df['Date'].min()"
   ]
  },
  {
   "cell_type": "markdown",
   "metadata": {},
   "source": [
    "#### Start with Sentence"
   ]
  }
 ],
 "metadata": {
  "kernelspec": {
   "display_name": "Python 3",
   "language": "python",
   "name": "python3"
  },
  "language_info": {
   "codemirror_mode": {
    "name": "ipython",
    "version": 3
   },
   "file_extension": ".py",
   "mimetype": "text/x-python",
   "name": "python",
   "nbconvert_exporter": "python",
   "pygments_lexer": "ipython3",
   "version": "3.6.8"
  }
 },
 "nbformat": 4,
 "nbformat_minor": 2
}
