{
 "cells": [
  {
   "cell_type": "code",
   "execution_count": 1,
   "metadata": {},
   "outputs": [],
   "source": [
    "#Importing packages\n",
    "from selenium import webdriver\n",
    "import pandas as pd"
   ]
  },
  {
   "cell_type": "code",
   "execution_count": 16,
   "metadata": {},
   "outputs": [],
   "source": [
    "#change directory where you put your chrome driver\n",
    "options = webdriver.ChromeOptions()\n",
    "options.add_argument('headless')\n",
    "driver = webdriver.Chrome(\"chromedriver\", options=options)"
   ]
  },
  {
   "cell_type": "code",
   "execution_count": 25,
   "metadata": {},
   "outputs": [
    {
     "name": "stdout",
     "output_type": "stream",
     "text": [
      "page 284\n",
      "page 285\n",
      "page 286\n",
      "page 287\n",
      "page 288\n",
      "page 289\n",
      "page 290\n",
      "page 291\n",
      "page 292\n",
      "page 293\n",
      "page 294\n",
      "page 295\n",
      "page 296\n",
      "page 297\n",
      "page 298\n",
      "page 299\n",
      "page 300\n",
      "page 301\n",
      "page 302\n",
      "page 303\n",
      "page 304\n",
      "page 305\n",
      "page 306\n",
      "page 307\n",
      "page 308\n",
      "page 309\n",
      "page 310\n",
      "page 311\n",
      "page 312\n",
      "page 313\n",
      "page 314\n",
      "page 315\n",
      "page 316\n",
      "page 317\n",
      "page 318\n",
      "page 319\n",
      "page 320\n",
      "page 321\n",
      "page 322\n",
      "page 323\n",
      "page 324\n",
      "page 325\n",
      "page 326\n",
      "page 327\n",
      "page 328\n",
      "page 329\n",
      "page 330\n",
      "page 331\n",
      "page 332\n",
      "page 333\n",
      "Wall time: 4h 33min 21s\n"
     ]
    }
   ],
   "source": [
    "%%time\n",
    "all_comments = pd.DataFrame(columns = ['Date','user_id', 'comments']) \n",
    "\n",
    "# I already scraped p334 to p434\n",
    "# now I'am scraping page 284 to 333\n",
    "x = 284\n",
    "pages_scraped = 333\n",
    "driver.get('https://forums.edmunds.com/discussion/2864/general/x/entry-level-luxury-performance-sedans/p{}'.format(x))\n",
    "\n",
    "while x <= pages_scraped:\n",
    "    print(\"page\",x)\n",
    "    \n",
    "    if x > 1:\n",
    "        driver.find_element_by_link_text(\"{}\".format(x)).click()\n",
    "        driver.implicitly_wait(3)\n",
    "    \n",
    "    ids = driver.find_elements_by_xpath(\"//*[contains(@id,'Comment_')]\")\n",
    "    comment_ids = []\n",
    "    for i in ids:\n",
    "        comment_ids.append(i.get_attribute('id'))\n",
    "\n",
    "    for d in comment_ids:\n",
    "\n",
    "        #Extract dates from for each user on a page\n",
    "        user_date = driver.find_elements_by_xpath('//*[@id=\"' + d +'\"]/div/div[2]/div[2]/span[1]/a/time')[0]\n",
    "        date = user_date.get_attribute('title')\n",
    "\n",
    "        #Extract user ids from each user on a page\n",
    "        userid_element = driver.find_elements_by_xpath('//*[@id=\"' + d +'\"]/div/div[2]/div[1]/span[1]/a[2]')[0]\n",
    "        userid = userid_element.text\n",
    "\n",
    "        #Extract Message for each user on a page\n",
    "        if driver.find_elements_by_xpath('//*[@id=\"' + d +'\"]/div/div[3]/div/div[1]/p'):\n",
    "            user_message = driver.find_elements_by_xpath('//*[@id=\"' + d +'\"]/div/div[3]/div/div[1]/p')[0]\n",
    "            comment = user_message.text\n",
    "        elif driver.find_elements_by_xpath('//*[@id=\"' + d +'\"]/div/div[3]/div/div[1]/ul/li'):\n",
    "            user_message = driver.find_elements_by_xpath('//*[@id=\"' + d +'\"]/div/div[3]/div/div[1]/ul/li')[0]\n",
    "            comment = user_message.text\n",
    "        elif driver.find_elements_by_xpath('//*[@id=\"' + d +'\"]/div/div[3]/div/div[1]'):\n",
    "            user_message = driver.find_elements_by_xpath('//*[@id=\"' + d +'\"]/div/div[3]/div/div[1]')[0]\n",
    "            comment = user_message.text\n",
    "        else: \n",
    "            comment = None\n",
    "        \n",
    "        #Adding date, userid and comment for each user in a dataframe    \n",
    "        all_comments.loc[len(all_comments)] = [date,userid,comment]\n",
    "        \n",
    "    x += 1"
   ]
  },
  {
   "cell_type": "code",
   "execution_count": 26,
   "metadata": {},
   "outputs": [
    {
     "data": {
      "text/plain": [
       "(2500, 3)"
      ]
     },
     "execution_count": 26,
     "metadata": {},
     "output_type": "execute_result"
    }
   ],
   "source": [
    "all_comments.shape"
   ]
  },
  {
   "cell_type": "code",
   "execution_count": 27,
   "metadata": {},
   "outputs": [],
   "source": [
    "# all_comments.to_csv(\"2500_comments_edmunds.csv\", sep=\"\\t\")"
   ]
  },
  {
   "cell_type": "code",
   "execution_count": 69,
   "metadata": {},
   "outputs": [],
   "source": [
    "# all_comments.to_csv(\"5000_comments_edmunds.csv\", sep=\"\\t\")"
   ]
  },
  {
   "cell_type": "markdown",
   "metadata": {},
   "source": [
    "#### check the data"
   ]
  },
  {
   "cell_type": "code",
   "execution_count": 29,
   "metadata": {},
   "outputs": [],
   "source": [
    "import pandas as pd\n",
    "df = pd.read_csv(\"5000_comments_edmunds.csv\", '\\t', parse_dates=['Date'])"
   ]
  },
  {
   "cell_type": "code",
   "execution_count": 77,
   "metadata": {},
   "outputs": [
    {
     "data": {
      "text/plain": [
       "68"
      ]
     },
     "execution_count": 77,
     "metadata": {},
     "output_type": "execute_result"
    }
   ],
   "source": [
    "len(df['user_id'].value_counts())"
   ]
  },
  {
   "cell_type": "code",
   "execution_count": 30,
   "metadata": {},
   "outputs": [
    {
     "data": {
      "text/html": [
       "<div>\n",
       "<style scoped>\n",
       "    .dataframe tbody tr th:only-of-type {\n",
       "        vertical-align: middle;\n",
       "    }\n",
       "\n",
       "    .dataframe tbody tr th {\n",
       "        vertical-align: top;\n",
       "    }\n",
       "\n",
       "    .dataframe thead th {\n",
       "        text-align: right;\n",
       "    }\n",
       "</style>\n",
       "<table border=\"1\" class=\"dataframe\">\n",
       "  <thead>\n",
       "    <tr style=\"text-align: right;\">\n",
       "      <th></th>\n",
       "      <th>Unnamed: 0</th>\n",
       "      <th>Date</th>\n",
       "      <th>user_id</th>\n",
       "      <th>comments</th>\n",
       "    </tr>\n",
       "  </thead>\n",
       "  <tbody>\n",
       "    <tr>\n",
       "      <th>0</th>\n",
       "      <td>0</td>\n",
       "      <td>2014-02-20 14:06:00</td>\n",
       "      <td>robr2</td>\n",
       "      <td>Someone better call marketing then:</td>\n",
       "    </tr>\n",
       "    <tr>\n",
       "      <th>1</th>\n",
       "      <td>1</td>\n",
       "      <td>2014-02-20 14:14:00</td>\n",
       "      <td>andys120</td>\n",
       "      <td>All what? This whole renaming scheme has turne...</td>\n",
       "    </tr>\n",
       "    <tr>\n",
       "      <th>2</th>\n",
       "      <td>2</td>\n",
       "      <td>2014-02-20 14:34:00</td>\n",
       "      <td>flightnurse</td>\n",
       "      <td>LOL... Oh well....</td>\n",
       "    </tr>\n",
       "    <tr>\n",
       "      <th>3</th>\n",
       "      <td>3</td>\n",
       "      <td>2014-02-20 15:04:00</td>\n",
       "      <td>Michaell</td>\n",
       "      <td>Isn't there going to be a 4-series \"grand coup...</td>\n",
       "    </tr>\n",
       "    <tr>\n",
       "      <th>4</th>\n",
       "      <td>4</td>\n",
       "      <td>2014-02-20 15:13:00</td>\n",
       "      <td>kyfdx</td>\n",
       "      <td>l</td>\n",
       "    </tr>\n",
       "  </tbody>\n",
       "</table>\n",
       "</div>"
      ],
      "text/plain": [
       "   Unnamed: 0                Date      user_id  \\\n",
       "0           0 2014-02-20 14:06:00        robr2   \n",
       "1           1 2014-02-20 14:14:00     andys120   \n",
       "2           2 2014-02-20 14:34:00  flightnurse   \n",
       "3           3 2014-02-20 15:04:00     Michaell   \n",
       "4           4 2014-02-20 15:13:00        kyfdx   \n",
       "\n",
       "                                            comments  \n",
       "0                Someone better call marketing then:  \n",
       "1  All what? This whole renaming scheme has turne...  \n",
       "2                                 LOL... Oh well....  \n",
       "3  Isn't there going to be a 4-series \"grand coup...  \n",
       "4                                                  l  "
      ]
     },
     "execution_count": 30,
     "metadata": {},
     "output_type": "execute_result"
    }
   ],
   "source": [
    "df.head()"
   ]
  },
  {
   "cell_type": "code",
   "execution_count": 31,
   "metadata": {},
   "outputs": [],
   "source": [
    "df2 = pd.read_csv(\"2500_comments_edmunds.csv\", '\\t', parse_dates=['Date'])"
   ]
  },
  {
   "cell_type": "code",
   "execution_count": 32,
   "metadata": {},
   "outputs": [
    {
     "data": {
      "text/plain": [
       "(7514, 4)"
      ]
     },
     "execution_count": 32,
     "metadata": {},
     "output_type": "execute_result"
    }
   ],
   "source": [
    "df3 = pd.concat([df, df2])\n",
    "df3.shape"
   ]
  },
  {
   "cell_type": "code",
   "execution_count": 33,
   "metadata": {},
   "outputs": [
    {
     "data": {
      "text/html": [
       "<div>\n",
       "<style scoped>\n",
       "    .dataframe tbody tr th:only-of-type {\n",
       "        vertical-align: middle;\n",
       "    }\n",
       "\n",
       "    .dataframe tbody tr th {\n",
       "        vertical-align: top;\n",
       "    }\n",
       "\n",
       "    .dataframe thead th {\n",
       "        text-align: right;\n",
       "    }\n",
       "</style>\n",
       "<table border=\"1\" class=\"dataframe\">\n",
       "  <thead>\n",
       "    <tr style=\"text-align: right;\">\n",
       "      <th></th>\n",
       "      <th>index</th>\n",
       "      <th>Unnamed: 0</th>\n",
       "      <th>Date</th>\n",
       "      <th>user_id</th>\n",
       "      <th>comments</th>\n",
       "    </tr>\n",
       "  </thead>\n",
       "  <tbody>\n",
       "    <tr>\n",
       "      <th>0</th>\n",
       "      <td>0</td>\n",
       "      <td>0</td>\n",
       "      <td>2014-02-20 14:06:00</td>\n",
       "      <td>robr2</td>\n",
       "      <td>Someone better call marketing then:</td>\n",
       "    </tr>\n",
       "    <tr>\n",
       "      <th>1</th>\n",
       "      <td>1</td>\n",
       "      <td>1</td>\n",
       "      <td>2014-02-20 14:14:00</td>\n",
       "      <td>andys120</td>\n",
       "      <td>All what? This whole renaming scheme has turne...</td>\n",
       "    </tr>\n",
       "    <tr>\n",
       "      <th>2</th>\n",
       "      <td>2</td>\n",
       "      <td>2</td>\n",
       "      <td>2014-02-20 14:34:00</td>\n",
       "      <td>flightnurse</td>\n",
       "      <td>LOL... Oh well....</td>\n",
       "    </tr>\n",
       "    <tr>\n",
       "      <th>3</th>\n",
       "      <td>3</td>\n",
       "      <td>3</td>\n",
       "      <td>2014-02-20 15:04:00</td>\n",
       "      <td>Michaell</td>\n",
       "      <td>Isn't there going to be a 4-series \"grand coup...</td>\n",
       "    </tr>\n",
       "    <tr>\n",
       "      <th>4</th>\n",
       "      <td>4</td>\n",
       "      <td>4</td>\n",
       "      <td>2014-02-20 15:13:00</td>\n",
       "      <td>kyfdx</td>\n",
       "      <td>l</td>\n",
       "    </tr>\n",
       "  </tbody>\n",
       "</table>\n",
       "</div>"
      ],
      "text/plain": [
       "   index  Unnamed: 0                Date      user_id  \\\n",
       "0      0           0 2014-02-20 14:06:00        robr2   \n",
       "1      1           1 2014-02-20 14:14:00     andys120   \n",
       "2      2           2 2014-02-20 14:34:00  flightnurse   \n",
       "3      3           3 2014-02-20 15:04:00     Michaell   \n",
       "4      4           4 2014-02-20 15:13:00        kyfdx   \n",
       "\n",
       "                                            comments  \n",
       "0                Someone better call marketing then:  \n",
       "1  All what? This whole renaming scheme has turne...  \n",
       "2                                 LOL... Oh well....  \n",
       "3  Isn't there going to be a 4-series \"grand coup...  \n",
       "4                                                  l  "
      ]
     },
     "execution_count": 33,
     "metadata": {},
     "output_type": "execute_result"
    }
   ],
   "source": [
    "df3 = df3.reset_index()\n",
    "df3.head()"
   ]
  },
  {
   "cell_type": "code",
   "execution_count": 34,
   "metadata": {},
   "outputs": [
    {
     "data": {
      "text/plain": [
       "130"
      ]
     },
     "execution_count": 34,
     "metadata": {},
     "output_type": "execute_result"
    }
   ],
   "source": [
    "len(df3['user_id'].value_counts())"
   ]
  },
  {
   "cell_type": "code",
   "execution_count": 79,
   "metadata": {},
   "outputs": [
    {
     "data": {
      "text/plain": [
       "Timestamp('2014-02-20 14:06:00')"
      ]
     },
     "execution_count": 79,
     "metadata": {},
     "output_type": "execute_result"
    }
   ],
   "source": [
    "df['Date'].min()"
   ]
  },
  {
   "cell_type": "markdown",
   "metadata": {},
   "source": [
    "#### Start with Sentence"
   ]
  }
 ],
 "metadata": {
  "kernelspec": {
   "display_name": "Python 3",
   "language": "python",
   "name": "python3"
  },
  "language_info": {
   "codemirror_mode": {
    "name": "ipython",
    "version": 3
   },
   "file_extension": ".py",
   "mimetype": "text/x-python",
   "name": "python",
   "nbconvert_exporter": "python",
   "pygments_lexer": "ipython3",
   "version": "3.6.8"
  }
 },
 "nbformat": 4,
 "nbformat_minor": 2
}
