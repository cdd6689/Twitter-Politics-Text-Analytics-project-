{
 "cells": [
  {
   "cell_type": "code",
   "execution_count": 1,
   "metadata": {},
   "outputs": [
    {
     "name": "stderr",
     "output_type": "stream",
     "text": [
      "[nltk_data] Downloading package punkt to\n",
      "[nltk_data]     C:\\Users\\spong\\AppData\\Roaming\\nltk_data...\n",
      "[nltk_data]   Package punkt is already up-to-date!\n",
      "[nltk_data] Downloading package wordnet to\n",
      "[nltk_data]     C:\\Users\\spong\\AppData\\Roaming\\nltk_data...\n",
      "[nltk_data]   Package wordnet is already up-to-date!\n"
     ]
    }
   ],
   "source": [
    "#Importing packages\n",
    "from selenium import webdriver\n",
    "import pandas as pd\n",
    "import numpy as np\n",
    "\n",
    "import nltk\n",
    "from nltk.tokenize import word_tokenize\n",
    "from nltk.stem import WordNetLemmatizer\n",
    "from nltk.corpus import stopwords\n",
    "from itertools import chain\n",
    "nltk.download('punkt')\n",
    "nltk.download('wordnet')\n",
    "\n",
    "import matplotlib.pyplot as plt\n",
    "%matplotlib inline  \n",
    "\n",
    "pd.set_option('display.max_rows', 500)"
   ]
  },
  {
   "cell_type": "markdown",
   "metadata": {},
   "source": [
    "## Summary of changes after meeting on 11/1\n",
    "1. Used inverse of lift to MDS (align with the slides)\n",
    "2. Fixed random_state in MDS (you can change it and see which works the best for you)\n",
    "3. Completed task C\n",
    "4. Completed task E, you can change the words in the list and see what happens"
   ]
  },
  {
   "cell_type": "markdown",
   "metadata": {},
   "source": [
    "## Scraper\n",
    "First of all, don't run it!, it took me hours to scrape all the data (It should not have taken so long but I don't know why).\n",
    "\n",
    "Secondly, I scraped around 7500 most recent pieces of comment instead of 5000 because the most recent 5000 comments are contributed by 68 users. With 7500 comments, we can get opioins from 130 users, which diversifys our data."
   ]
  },
  {
   "cell_type": "code",
   "execution_count": 80,
   "metadata": {},
   "outputs": [],
   "source": [
    "# %%time\n",
    "\n",
    "# #change directory where you put your chrome driver\n",
    "# options = webdriver.ChromeOptions()\n",
    "# options.add_argument('headless')\n",
    "# driver = webdriver.Chrome(\"chromedriver\", options=options)\n",
    "\n",
    "# all_comments = pd.DataFrame(columns = ['Date','user_id', 'comments']) \n",
    "\n",
    "# x = 284\n",
    "# pages_scraped = 434\n",
    "# driver.get('https://forums.edmunds.com/discussion/2864/general/x/entry-level-luxury-performance-sedans/p{}'.format(x))\n",
    "\n",
    "# while x <= pages_scraped:\n",
    "#     print(\"page\",x)\n",
    "    \n",
    "#     if x > 1:\n",
    "#         driver.find_element_by_link_text(\"{}\".format(x)).click()\n",
    "#         driver.implicitly_wait(3)\n",
    "    \n",
    "#     ids = driver.find_elements_by_xpath(\"//*[contains(@id,'Comment_')]\")\n",
    "#     comment_ids = []\n",
    "#     for i in ids:\n",
    "#         comment_ids.append(i.get_attribute('id'))\n",
    "\n",
    "#     for d in comment_ids:\n",
    "\n",
    "#         #Extract dates from for each user on a page\n",
    "#         user_date = driver.find_elements_by_xpath('//*[@id=\"' + d +'\"]/div/div[2]/div[2]/span[1]/a/time')[0]\n",
    "#         date = user_date.get_attribute('title')\n",
    "\n",
    "#         #Extract user ids from each user on a page\n",
    "#         userid_element = driver.find_elements_by_xpath('//*[@id=\"' + d +'\"]/div/div[2]/div[1]/span[1]/a[2]')[0]\n",
    "#         userid = userid_element.text\n",
    "\n",
    "#         #Extract Message for each user on a page\n",
    "#         if driver.find_elements_by_xpath('//*[@id=\"' + d +'\"]/div/div[3]/div/div[1]/p'):\n",
    "#             user_message = driver.find_elements_by_xpath('//*[@id=\"' + d +'\"]/div/div[3]/div/div[1]/p')[0]\n",
    "#             comment = user_message.text\n",
    "#         elif driver.find_elements_by_xpath('//*[@id=\"' + d +'\"]/div/div[3]/div/div[1]/ul/li'):\n",
    "#             user_message = driver.find_elements_by_xpath('//*[@id=\"' + d +'\"]/div/div[3]/div/div[1]/ul/li')[0]\n",
    "#             comment = user_message.text\n",
    "#         elif driver.find_elements_by_xpath('//*[@id=\"' + d +'\"]/div/div[3]/div/div[1]'):\n",
    "#             user_message = driver.find_elements_by_xpath('//*[@id=\"' + d +'\"]/div/div[3]/div/div[1]')[0]\n",
    "#             comment = user_message.text\n",
    "#         else: \n",
    "#             comment = None\n",
    "        \n",
    "#         #Adding date, userid and comment for each user in a dataframe    \n",
    "#         all_comments.loc[len(all_comments)] = [date,userid,comment]\n",
    "        \n",
    "#     x += 1"
   ]
  },
  {
   "cell_type": "code",
   "execution_count": 81,
   "metadata": {},
   "outputs": [],
   "source": [
    "# all_comments.to_csv(\"7500_comments_edmunds.csv\", sep=\"\\t\")"
   ]
  },
  {
   "cell_type": "markdown",
   "metadata": {},
   "source": [
    "## Check the data\n",
    "We have 7506 rows of comments from 2012-8-10 to 2019-8-21, comtibuted by 130 users."
   ]
  },
  {
   "cell_type": "code",
   "execution_count": 2,
   "metadata": {},
   "outputs": [],
   "source": [
    "df = pd.read_csv(\"7500_comments_edmunds.csv\", sep=\"\\t\", parse_dates=['Date'])\n",
    "df = df[['Date', 'user_id', 'comments']]\n",
    "df = df.dropna()"
   ]
  },
  {
   "cell_type": "code",
   "execution_count": 83,
   "metadata": {},
   "outputs": [
    {
     "data": {
      "text/plain": [
       "(7506, 3)"
      ]
     },
     "execution_count": 83,
     "metadata": {},
     "output_type": "execute_result"
    }
   ],
   "source": [
    "df.shape"
   ]
  },
  {
   "cell_type": "code",
   "execution_count": 84,
   "metadata": {},
   "outputs": [
    {
     "data": {
      "text/plain": [
       "Timestamp('2019-08-21 02:25:00')"
      ]
     },
     "execution_count": 84,
     "metadata": {},
     "output_type": "execute_result"
    }
   ],
   "source": [
    "df['Date'].max()"
   ]
  },
  {
   "cell_type": "code",
   "execution_count": 85,
   "metadata": {},
   "outputs": [
    {
     "data": {
      "text/plain": [
       "Timestamp('2012-08-10 01:45:00')"
      ]
     },
     "execution_count": 85,
     "metadata": {},
     "output_type": "execute_result"
    }
   ],
   "source": [
    "df['Date'].min()"
   ]
  },
  {
   "cell_type": "code",
   "execution_count": 86,
   "metadata": {},
   "outputs": [
    {
     "data": {
      "text/plain": [
       "130"
      ]
     },
     "execution_count": 86,
     "metadata": {},
     "output_type": "execute_result"
    }
   ],
   "source": [
    "len(df['user_id'].value_counts())"
   ]
  },
  {
   "cell_type": "markdown",
   "metadata": {},
   "source": [
    "### Preprocess comments"
   ]
  },
  {
   "cell_type": "code",
   "execution_count": 3,
   "metadata": {},
   "outputs": [
    {
     "name": "stdout",
     "output_type": "stream",
     "text": [
      "Wall time: 21.8 s\n"
     ]
    }
   ],
   "source": [
    "%%time\n",
    "# tokenization\n",
    "df['tokens'] = df['comments'].map(nltk.word_tokenize)\n",
    "df['tokens'] = df['tokens'].map(lambda x: set(x))\n",
    "\n",
    "# lemmatization\n",
    "lemmatizer = WordNetLemmatizer()\n",
    "df['lemmatized'] = df ['tokens'].map(lambda x: [lemmatizer.lemmatize(word) for word in x])\n",
    "df['lemmatized'] = df['lemmatized'].map(lambda x: set(x))\n",
    "\n",
    "# remove stop words\n",
    "stop_words = set(stopwords.words('english'))\n",
    "df['processed'] = df['lemmatized'].map(lambda x: [word for word in x if word.lower() not in stop_words])\n",
    "\n",
    "# remove punctuations\n",
    "punc = \"!\\\"#$%&'()*+,-./:;<=>?@[\\]^_`{|}~...\"\n",
    "df['processed'] = df['processed'].map(lambda x: [word for word in x if word.lower() not in punc])\n",
    "\n",
    "# remove some other stuff and return lower case\n",
    "others = [\"''\", \"``\", \"n't\", \"l\", \"oh\", \"lol\", \"'m\", \"'s\"]\n",
    "df['processed'] = df['processed'].map(lambda x: [word.lower() for word in x if word.lower() not in others])"
   ]
  },
  {
   "cell_type": "markdown",
   "metadata": {},
   "source": [
    "## Replace model to brand"
   ]
  },
  {
   "cell_type": "code",
   "execution_count": 6,
   "metadata": {},
   "outputs": [
    {
     "name": "stdout",
     "output_type": "stream",
     "text": [
      "Wall time: 15.1 s\n"
     ]
    }
   ],
   "source": [
    "%%time\n",
    "models = pd.read_csv(\"models (5).csv\", header = None)\n",
    "models.columns = ['brand', 'model']\n",
    "\n",
    "## clean brand list\n",
    "models.loc[(models['brand'] == 'mercedes'),'brand'] = 'mercedes-benz'\n",
    "models.loc[(models['brand'] == 'mercedes benz'),'brand'] = 'mercedes-benz'\n",
    "models.loc[(models['brand'] == 'kia.'),'brand'] = 'kia'\n",
    "models.loc[(models['brand'] == 'kia,'),'brand'] = 'kia'\n",
    "models.loc[(models['brand'] == 'hyndai kia'),'brand'] = 'kia'\n",
    "models.loc[(models['brand'] == 'hyundai,'),'brand'] = 'hyundai'\n",
    "models.loc[(models['brand'] == 'hyundai.'),'brand'] = 'hyundai'\n",
    "models.loc[(models['brand'] == 'nissan.'),'brand'] = 'nissan'\n",
    "models.loc[(models['brand'] == 'toyata'),'brand'] = 'toyota'\n",
    "models.loc[(models['brand'] == 'volkwagen'),'brand'] = 'volkswagen'\n",
    "\n",
    "\n",
    "\n",
    "def model_to_brand(word):\n",
    "    if word.lower() in models['model'].values:\n",
    "        brand = models[models['model'] == word].iloc[-1,0]\n",
    "#         print('replace ' + word + ' to ' + brand)\n",
    "        return(brand)\n",
    "    else:\n",
    "        return(word)\n",
    "\n",
    "df['processed'] = df['processed'].map(lambda x: [model_to_brand(word) for word in x])"
   ]
  },
  {
   "cell_type": "markdown",
   "metadata": {},
   "source": [
    "## Check frequency"
   ]
  },
  {
   "cell_type": "code",
   "execution_count": 8,
   "metadata": {
    "scrolled": true
   },
   "outputs": [],
   "source": [
    "all_words = pd.Series(chain(*list(df['processed'])))\n",
    "word_frequency = all_words.value_counts()\n",
    "# word_frequency"
   ]
  },
  {
   "cell_type": "markdown",
   "metadata": {},
   "source": [
    "## Task A: get top 10 list\n",
    "Filter brands from word_frequency"
   ]
  },
  {
   "cell_type": "code",
   "execution_count": 10,
   "metadata": {},
   "outputs": [
    {
     "data": {
      "text/plain": [
       "bmw              2551\n",
       "audi             1911\n",
       "acura            1134\n",
       "honda            1000\n",
       "infiniti          662\n",
       "volkswagen        539\n",
       "toyota            488\n",
       "mercedes-benz     411\n",
       "hyundai           396\n",
       "ford              376\n",
       "dtype: int64"
      ]
     },
     "execution_count": 10,
     "metadata": {},
     "output_type": "execute_result"
    }
   ],
   "source": [
    "brand_list = models['brand'].drop_duplicates().values\n",
    "no_use = ['car', 'sedan', 'seat', 'problem']\n",
    "brand_list = [ x for x in brand_list if x not in no_use]\n",
    "\n",
    "tmp = pd.DataFrame(word_frequency)\n",
    "tmp['word'] = word_frequency.index\n",
    "mask = tmp['word'].isin(brand_list)\n",
    "brand_frequency = word_frequency[mask]\n",
    "top10_brands = brand_frequency.head(10)\n",
    "top10_brands"
   ]
  },
  {
   "cell_type": "markdown",
   "metadata": {},
   "source": [
    "## Task A: calculate lift ratios for associations between the brands"
   ]
  },
  {
   "cell_type": "markdown",
   "metadata": {},
   "source": [
    "#### Test case"
   ]
  },
  {
   "cell_type": "code",
   "execution_count": 11,
   "metadata": {},
   "outputs": [
    {
     "name": "stdout",
     "output_type": "stream",
     "text": [
      "7506 567 1930 1234 1.7869777714328903\n"
     ]
    }
   ],
   "source": [
    "# lift(bmw, audi)\n",
    "a = 'bmw'\n",
    "b = 'audi'\n",
    "N = df['processed'].shape[0]\n",
    "N_ab = sum(df['processed'].map(lambda x: a in x and b in x))\n",
    "N_a = sum(df['processed'].map(lambda x: a in x))\n",
    "N_b = sum(df['processed'].map(lambda x: b in x))\n",
    "print(N, N_ab, N_a, N_b, N*N_ab/(N_a*N_b))\n",
    "\n",
    "def lift(a, b):\n",
    "    N = df['processed'].shape[0]\n",
    "    N_ab = sum(df['processed'].map(lambda x: a in x and b in x))\n",
    "    N_a = sum(df['processed'].map(lambda x: a in x))\n",
    "    N_b = sum(df['processed'].map(lambda x: b in x))\n",
    "    return(N*N_ab/(N_a*N_b))"
   ]
  },
  {
   "cell_type": "code",
   "execution_count": 12,
   "metadata": {},
   "outputs": [
    {
     "data": {
      "text/html": [
       "<div>\n",
       "<style scoped>\n",
       "    .dataframe tbody tr th:only-of-type {\n",
       "        vertical-align: middle;\n",
       "    }\n",
       "\n",
       "    .dataframe tbody tr th {\n",
       "        vertical-align: top;\n",
       "    }\n",
       "\n",
       "    .dataframe thead th {\n",
       "        text-align: right;\n",
       "    }\n",
       "</style>\n",
       "<table border=\"1\" class=\"dataframe\">\n",
       "  <thead>\n",
       "    <tr style=\"text-align: right;\">\n",
       "      <th></th>\n",
       "      <th>bmw</th>\n",
       "      <th>audi</th>\n",
       "      <th>acura</th>\n",
       "      <th>honda</th>\n",
       "      <th>infiniti</th>\n",
       "      <th>volkswagen</th>\n",
       "      <th>toyota</th>\n",
       "      <th>mercedes-benz</th>\n",
       "      <th>hyundai</th>\n",
       "      <th>ford</th>\n",
       "    </tr>\n",
       "    <tr>\n",
       "      <th>brand</th>\n",
       "      <th></th>\n",
       "      <th></th>\n",
       "      <th></th>\n",
       "      <th></th>\n",
       "      <th></th>\n",
       "      <th></th>\n",
       "      <th></th>\n",
       "      <th></th>\n",
       "      <th></th>\n",
       "      <th></th>\n",
       "    </tr>\n",
       "  </thead>\n",
       "  <tbody>\n",
       "    <tr>\n",
       "      <th>bmw</th>\n",
       "      <td>3.889119</td>\n",
       "      <td>1.786978</td>\n",
       "      <td>1.325522</td>\n",
       "      <td>1.098865</td>\n",
       "      <td>1.894895</td>\n",
       "      <td>1.179733</td>\n",
       "      <td>1.380993</td>\n",
       "      <td>2.622126</td>\n",
       "      <td>1.247200</td>\n",
       "      <td>1.406985</td>\n",
       "    </tr>\n",
       "    <tr>\n",
       "      <th>audi</th>\n",
       "      <td>1.786978</td>\n",
       "      <td>6.082658</td>\n",
       "      <td>2.173920</td>\n",
       "      <td>1.583850</td>\n",
       "      <td>2.593196</td>\n",
       "      <td>2.580048</td>\n",
       "      <td>1.508753</td>\n",
       "      <td>3.480728</td>\n",
       "      <td>1.803823</td>\n",
       "      <td>1.224836</td>\n",
       "    </tr>\n",
       "    <tr>\n",
       "      <th>acura</th>\n",
       "      <td>1.325522</td>\n",
       "      <td>2.173920</td>\n",
       "      <td>8.882840</td>\n",
       "      <td>3.260322</td>\n",
       "      <td>3.298343</td>\n",
       "      <td>1.392939</td>\n",
       "      <td>1.553917</td>\n",
       "      <td>2.617041</td>\n",
       "      <td>1.531524</td>\n",
       "      <td>1.121724</td>\n",
       "    </tr>\n",
       "    <tr>\n",
       "      <th>honda</th>\n",
       "      <td>1.098865</td>\n",
       "      <td>1.583850</td>\n",
       "      <td>3.260322</td>\n",
       "      <td>10.396122</td>\n",
       "      <td>1.409297</td>\n",
       "      <td>2.138020</td>\n",
       "      <td>3.202983</td>\n",
       "      <td>1.737595</td>\n",
       "      <td>1.828284</td>\n",
       "      <td>2.022454</td>\n",
       "    </tr>\n",
       "    <tr>\n",
       "      <th>infiniti</th>\n",
       "      <td>1.894895</td>\n",
       "      <td>2.593196</td>\n",
       "      <td>3.298343</td>\n",
       "      <td>1.409297</td>\n",
       "      <td>14.746562</td>\n",
       "      <td>1.250994</td>\n",
       "      <td>1.617116</td>\n",
       "      <td>3.467322</td>\n",
       "      <td>2.034009</td>\n",
       "      <td>1.258239</td>\n",
       "    </tr>\n",
       "    <tr>\n",
       "      <th>volkswagen</th>\n",
       "      <td>1.179733</td>\n",
       "      <td>2.580048</td>\n",
       "      <td>1.392939</td>\n",
       "      <td>2.138020</td>\n",
       "      <td>1.250994</td>\n",
       "      <td>19.295630</td>\n",
       "      <td>2.367871</td>\n",
       "      <td>1.639855</td>\n",
       "      <td>2.195710</td>\n",
       "      <td>2.831782</td>\n",
       "    </tr>\n",
       "    <tr>\n",
       "      <th>toyota</th>\n",
       "      <td>1.380993</td>\n",
       "      <td>1.508753</td>\n",
       "      <td>1.553917</td>\n",
       "      <td>3.202983</td>\n",
       "      <td>1.617116</td>\n",
       "      <td>2.367871</td>\n",
       "      <td>19.597911</td>\n",
       "      <td>1.998654</td>\n",
       "      <td>3.041055</td>\n",
       "      <td>2.742370</td>\n",
       "    </tr>\n",
       "    <tr>\n",
       "      <th>mercedes-benz</th>\n",
       "      <td>2.622126</td>\n",
       "      <td>3.480728</td>\n",
       "      <td>2.617041</td>\n",
       "      <td>1.737595</td>\n",
       "      <td>3.467322</td>\n",
       "      <td>1.639855</td>\n",
       "      <td>1.998654</td>\n",
       "      <td>21.263456</td>\n",
       "      <td>2.126346</td>\n",
       "      <td>2.177146</td>\n",
       "    </tr>\n",
       "    <tr>\n",
       "      <th>hyundai</th>\n",
       "      <td>1.247200</td>\n",
       "      <td>1.803823</td>\n",
       "      <td>1.531524</td>\n",
       "      <td>1.828284</td>\n",
       "      <td>2.034009</td>\n",
       "      <td>2.195710</td>\n",
       "      <td>3.041055</td>\n",
       "      <td>2.126346</td>\n",
       "      <td>25.882759</td>\n",
       "      <td>2.031752</td>\n",
       "    </tr>\n",
       "    <tr>\n",
       "      <th>ford</th>\n",
       "      <td>1.406985</td>\n",
       "      <td>1.224836</td>\n",
       "      <td>1.121724</td>\n",
       "      <td>2.022454</td>\n",
       "      <td>1.258239</td>\n",
       "      <td>2.831782</td>\n",
       "      <td>2.742370</td>\n",
       "      <td>2.177146</td>\n",
       "      <td>2.031752</td>\n",
       "      <td>25.617747</td>\n",
       "    </tr>\n",
       "  </tbody>\n",
       "</table>\n",
       "</div>"
      ],
      "text/plain": [
       "                    bmw      audi     acura      honda   infiniti  volkswagen  \\\n",
       "brand                                                                           \n",
       "bmw            3.889119  1.786978  1.325522   1.098865   1.894895    1.179733   \n",
       "audi           1.786978  6.082658  2.173920   1.583850   2.593196    2.580048   \n",
       "acura          1.325522  2.173920  8.882840   3.260322   3.298343    1.392939   \n",
       "honda          1.098865  1.583850  3.260322  10.396122   1.409297    2.138020   \n",
       "infiniti       1.894895  2.593196  3.298343   1.409297  14.746562    1.250994   \n",
       "volkswagen     1.179733  2.580048  1.392939   2.138020   1.250994   19.295630   \n",
       "toyota         1.380993  1.508753  1.553917   3.202983   1.617116    2.367871   \n",
       "mercedes-benz  2.622126  3.480728  2.617041   1.737595   3.467322    1.639855   \n",
       "hyundai        1.247200  1.803823  1.531524   1.828284   2.034009    2.195710   \n",
       "ford           1.406985  1.224836  1.121724   2.022454   1.258239    2.831782   \n",
       "\n",
       "                  toyota  mercedes-benz    hyundai       ford  \n",
       "brand                                                          \n",
       "bmw             1.380993       2.622126   1.247200   1.406985  \n",
       "audi            1.508753       3.480728   1.803823   1.224836  \n",
       "acura           1.553917       2.617041   1.531524   1.121724  \n",
       "honda           3.202983       1.737595   1.828284   2.022454  \n",
       "infiniti        1.617116       3.467322   2.034009   1.258239  \n",
       "volkswagen      2.367871       1.639855   2.195710   2.831782  \n",
       "toyota         19.597911       1.998654   3.041055   2.742370  \n",
       "mercedes-benz   1.998654      21.263456   2.126346   2.177146  \n",
       "hyundai         3.041055       2.126346  25.882759   2.031752  \n",
       "ford            2.742370       2.177146   2.031752  25.617747  "
      ]
     },
     "execution_count": 12,
     "metadata": {},
     "output_type": "execute_result"
    }
   ],
   "source": [
    "lift_brands = pd.DataFrame(top10_brands.index.values, columns=['brand'])\n",
    "for make in top10_brands.index.values:\n",
    "    lift_brands[make] = lift_brands['brand'].map(lambda x: lift(x, make))\n",
    "lift_brands = lift_brands.set_index('brand')\n",
    "lift_brands"
   ]
  },
  {
   "cell_type": "code",
   "execution_count": 13,
   "metadata": {},
   "outputs": [
    {
     "data": {
      "text/html": [
       "<div>\n",
       "<style scoped>\n",
       "    .dataframe tbody tr th:only-of-type {\n",
       "        vertical-align: middle;\n",
       "    }\n",
       "\n",
       "    .dataframe tbody tr th {\n",
       "        vertical-align: top;\n",
       "    }\n",
       "\n",
       "    .dataframe thead th {\n",
       "        text-align: right;\n",
       "    }\n",
       "</style>\n",
       "<table border=\"1\" class=\"dataframe\">\n",
       "  <thead>\n",
       "    <tr style=\"text-align: right;\">\n",
       "      <th></th>\n",
       "      <th>bmw</th>\n",
       "      <th>audi</th>\n",
       "      <th>acura</th>\n",
       "      <th>honda</th>\n",
       "      <th>infiniti</th>\n",
       "      <th>volkswagen</th>\n",
       "      <th>toyota</th>\n",
       "      <th>mercedes-benz</th>\n",
       "      <th>hyundai</th>\n",
       "      <th>ford</th>\n",
       "    </tr>\n",
       "    <tr>\n",
       "      <th>brand</th>\n",
       "      <th></th>\n",
       "      <th></th>\n",
       "      <th></th>\n",
       "      <th></th>\n",
       "      <th></th>\n",
       "      <th></th>\n",
       "      <th></th>\n",
       "      <th></th>\n",
       "      <th></th>\n",
       "      <th></th>\n",
       "    </tr>\n",
       "  </thead>\n",
       "  <tbody>\n",
       "    <tr>\n",
       "      <th>bmw</th>\n",
       "      <td>0.257128</td>\n",
       "      <td>0.559604</td>\n",
       "      <td>0.754420</td>\n",
       "      <td>0.910030</td>\n",
       "      <td>0.527734</td>\n",
       "      <td>0.847650</td>\n",
       "      <td>0.724117</td>\n",
       "      <td>0.381370</td>\n",
       "      <td>0.801796</td>\n",
       "      <td>0.710740</td>\n",
       "    </tr>\n",
       "    <tr>\n",
       "      <th>audi</th>\n",
       "      <td>0.559604</td>\n",
       "      <td>0.164402</td>\n",
       "      <td>0.459998</td>\n",
       "      <td>0.631373</td>\n",
       "      <td>0.385625</td>\n",
       "      <td>0.387590</td>\n",
       "      <td>0.662799</td>\n",
       "      <td>0.287296</td>\n",
       "      <td>0.554378</td>\n",
       "      <td>0.816436</td>\n",
       "    </tr>\n",
       "    <tr>\n",
       "      <th>acura</th>\n",
       "      <td>0.754420</td>\n",
       "      <td>0.459998</td>\n",
       "      <td>0.112577</td>\n",
       "      <td>0.306718</td>\n",
       "      <td>0.303182</td>\n",
       "      <td>0.717907</td>\n",
       "      <td>0.643535</td>\n",
       "      <td>0.382111</td>\n",
       "      <td>0.652944</td>\n",
       "      <td>0.891485</td>\n",
       "    </tr>\n",
       "    <tr>\n",
       "      <th>honda</th>\n",
       "      <td>0.910030</td>\n",
       "      <td>0.631373</td>\n",
       "      <td>0.306718</td>\n",
       "      <td>0.096190</td>\n",
       "      <td>0.709573</td>\n",
       "      <td>0.467722</td>\n",
       "      <td>0.312209</td>\n",
       "      <td>0.575508</td>\n",
       "      <td>0.546961</td>\n",
       "      <td>0.494449</td>\n",
       "    </tr>\n",
       "    <tr>\n",
       "      <th>infiniti</th>\n",
       "      <td>0.527734</td>\n",
       "      <td>0.385625</td>\n",
       "      <td>0.303182</td>\n",
       "      <td>0.709573</td>\n",
       "      <td>0.067812</td>\n",
       "      <td>0.799365</td>\n",
       "      <td>0.618385</td>\n",
       "      <td>0.288407</td>\n",
       "      <td>0.491640</td>\n",
       "      <td>0.794762</td>\n",
       "    </tr>\n",
       "    <tr>\n",
       "      <th>volkswagen</th>\n",
       "      <td>0.847650</td>\n",
       "      <td>0.387590</td>\n",
       "      <td>0.717907</td>\n",
       "      <td>0.467722</td>\n",
       "      <td>0.799365</td>\n",
       "      <td>0.051825</td>\n",
       "      <td>0.422320</td>\n",
       "      <td>0.609810</td>\n",
       "      <td>0.455434</td>\n",
       "      <td>0.353135</td>\n",
       "    </tr>\n",
       "    <tr>\n",
       "      <th>toyota</th>\n",
       "      <td>0.724117</td>\n",
       "      <td>0.662799</td>\n",
       "      <td>0.643535</td>\n",
       "      <td>0.312209</td>\n",
       "      <td>0.618385</td>\n",
       "      <td>0.422320</td>\n",
       "      <td>0.051026</td>\n",
       "      <td>0.500337</td>\n",
       "      <td>0.328833</td>\n",
       "      <td>0.364648</td>\n",
       "    </tr>\n",
       "    <tr>\n",
       "      <th>mercedes-benz</th>\n",
       "      <td>0.381370</td>\n",
       "      <td>0.287296</td>\n",
       "      <td>0.382111</td>\n",
       "      <td>0.575508</td>\n",
       "      <td>0.288407</td>\n",
       "      <td>0.609810</td>\n",
       "      <td>0.500337</td>\n",
       "      <td>0.047029</td>\n",
       "      <td>0.470290</td>\n",
       "      <td>0.459317</td>\n",
       "    </tr>\n",
       "    <tr>\n",
       "      <th>hyundai</th>\n",
       "      <td>0.801796</td>\n",
       "      <td>0.554378</td>\n",
       "      <td>0.652944</td>\n",
       "      <td>0.546961</td>\n",
       "      <td>0.491640</td>\n",
       "      <td>0.455434</td>\n",
       "      <td>0.328833</td>\n",
       "      <td>0.470290</td>\n",
       "      <td>0.038636</td>\n",
       "      <td>0.492186</td>\n",
       "    </tr>\n",
       "    <tr>\n",
       "      <th>ford</th>\n",
       "      <td>0.710740</td>\n",
       "      <td>0.816436</td>\n",
       "      <td>0.891485</td>\n",
       "      <td>0.494449</td>\n",
       "      <td>0.794762</td>\n",
       "      <td>0.353135</td>\n",
       "      <td>0.364648</td>\n",
       "      <td>0.459317</td>\n",
       "      <td>0.492186</td>\n",
       "      <td>0.039035</td>\n",
       "    </tr>\n",
       "  </tbody>\n",
       "</table>\n",
       "</div>"
      ],
      "text/plain": [
       "                    bmw      audi     acura     honda  infiniti  volkswagen  \\\n",
       "brand                                                                         \n",
       "bmw            0.257128  0.559604  0.754420  0.910030  0.527734    0.847650   \n",
       "audi           0.559604  0.164402  0.459998  0.631373  0.385625    0.387590   \n",
       "acura          0.754420  0.459998  0.112577  0.306718  0.303182    0.717907   \n",
       "honda          0.910030  0.631373  0.306718  0.096190  0.709573    0.467722   \n",
       "infiniti       0.527734  0.385625  0.303182  0.709573  0.067812    0.799365   \n",
       "volkswagen     0.847650  0.387590  0.717907  0.467722  0.799365    0.051825   \n",
       "toyota         0.724117  0.662799  0.643535  0.312209  0.618385    0.422320   \n",
       "mercedes-benz  0.381370  0.287296  0.382111  0.575508  0.288407    0.609810   \n",
       "hyundai        0.801796  0.554378  0.652944  0.546961  0.491640    0.455434   \n",
       "ford           0.710740  0.816436  0.891485  0.494449  0.794762    0.353135   \n",
       "\n",
       "                 toyota  mercedes-benz   hyundai      ford  \n",
       "brand                                                       \n",
       "bmw            0.724117       0.381370  0.801796  0.710740  \n",
       "audi           0.662799       0.287296  0.554378  0.816436  \n",
       "acura          0.643535       0.382111  0.652944  0.891485  \n",
       "honda          0.312209       0.575508  0.546961  0.494449  \n",
       "infiniti       0.618385       0.288407  0.491640  0.794762  \n",
       "volkswagen     0.422320       0.609810  0.455434  0.353135  \n",
       "toyota         0.051026       0.500337  0.328833  0.364648  \n",
       "mercedes-benz  0.500337       0.047029  0.470290  0.459317  \n",
       "hyundai        0.328833       0.470290  0.038636  0.492186  \n",
       "ford           0.364648       0.459317  0.492186  0.039035  "
      ]
     },
     "execution_count": 13,
     "metadata": {},
     "output_type": "execute_result"
    }
   ],
   "source": [
    "inverse_lift_brands = lift_brands.apply(lambda x: 1/x)\n",
    "inverse_lift_brands"
   ]
  },
  {
   "cell_type": "markdown",
   "metadata": {},
   "source": [
    "## MDS plot"
   ]
  },
  {
   "cell_type": "code",
   "execution_count": 14,
   "metadata": {},
   "outputs": [
    {
     "name": "stderr",
     "output_type": "stream",
     "text": [
      "C:\\Users\\spong\\Anaconda3\\envs\\test\\lib\\site-packages\\sklearn\\manifold\\mds.py:421: UserWarning: The MDS API has changed. ``fit`` now constructs an dissimilarity matrix from data. To use a custom dissimilarity matrix, set ``dissimilarity='precomputed'``.\n",
      "  warnings.warn(\"The MDS API has changed. ``fit`` now constructs an\"\n"
     ]
    },
    {
     "data": {
      "text/html": [
       "<div>\n",
       "<style scoped>\n",
       "    .dataframe tbody tr th:only-of-type {\n",
       "        vertical-align: middle;\n",
       "    }\n",
       "\n",
       "    .dataframe tbody tr th {\n",
       "        vertical-align: top;\n",
       "    }\n",
       "\n",
       "    .dataframe thead th {\n",
       "        text-align: right;\n",
       "    }\n",
       "</style>\n",
       "<table border=\"1\" class=\"dataframe\">\n",
       "  <thead>\n",
       "    <tr style=\"text-align: right;\">\n",
       "      <th></th>\n",
       "      <th>x</th>\n",
       "      <th>y</th>\n",
       "    </tr>\n",
       "  </thead>\n",
       "  <tbody>\n",
       "    <tr>\n",
       "      <th>bmw</th>\n",
       "      <td>-0.367376</td>\n",
       "      <td>0.782580</td>\n",
       "    </tr>\n",
       "    <tr>\n",
       "      <th>audi</th>\n",
       "      <td>-0.409547</td>\n",
       "      <td>-0.107489</td>\n",
       "    </tr>\n",
       "    <tr>\n",
       "      <th>acura</th>\n",
       "      <td>-0.562045</td>\n",
       "      <td>-0.491723</td>\n",
       "    </tr>\n",
       "    <tr>\n",
       "      <th>honda</th>\n",
       "      <td>0.252681</td>\n",
       "      <td>-0.625381</td>\n",
       "    </tr>\n",
       "    <tr>\n",
       "      <th>infiniti</th>\n",
       "      <td>-0.736055</td>\n",
       "      <td>0.087601</td>\n",
       "    </tr>\n",
       "    <tr>\n",
       "      <th>volkswagen</th>\n",
       "      <td>0.726127</td>\n",
       "      <td>-0.098010</td>\n",
       "    </tr>\n",
       "    <tr>\n",
       "      <th>toyota</th>\n",
       "      <td>0.463266</td>\n",
       "      <td>-0.267686</td>\n",
       "    </tr>\n",
       "    <tr>\n",
       "      <th>mercedes-benz</th>\n",
       "      <td>-0.383009</td>\n",
       "      <td>0.242688</td>\n",
       "    </tr>\n",
       "    <tr>\n",
       "      <th>hyundai</th>\n",
       "      <td>0.284235</td>\n",
       "      <td>0.103132</td>\n",
       "    </tr>\n",
       "    <tr>\n",
       "      <th>ford</th>\n",
       "      <td>0.731723</td>\n",
       "      <td>0.374289</td>\n",
       "    </tr>\n",
       "  </tbody>\n",
       "</table>\n",
       "</div>"
      ],
      "text/plain": [
       "                      x         y\n",
       "bmw           -0.367376  0.782580\n",
       "audi          -0.409547 -0.107489\n",
       "acura         -0.562045 -0.491723\n",
       "honda          0.252681 -0.625381\n",
       "infiniti      -0.736055  0.087601\n",
       "volkswagen     0.726127 -0.098010\n",
       "toyota         0.463266 -0.267686\n",
       "mercedes-benz -0.383009  0.242688\n",
       "hyundai        0.284235  0.103132\n",
       "ford           0.731723  0.374289"
      ]
     },
     "execution_count": 14,
     "metadata": {},
     "output_type": "execute_result"
    }
   ],
   "source": [
    "from sklearn.manifold import MDS\n",
    "embedding = MDS(n_components=2, random_state=4)\n",
    "mds = embedding.fit_transform(inverse_lift_brands)\n",
    "mds_output = pd.DataFrame(mds, index=inverse_lift_brands.index.values, columns=['x', 'y'])\n",
    "mds_output"
   ]
  },
  {
   "cell_type": "code",
   "execution_count": 15,
   "metadata": {},
   "outputs": [
    {
     "data": {
      "image/png": "[encoded data removed]",
      "text/plain": [
       "<Figure size 432x288 with 1 Axes>"
      ]
     },
     "metadata": {
      "needs_background": "light"
     },
     "output_type": "display_data"
    }
   ],
   "source": [
    "fig, ax = plt.subplots()\n",
    "ax.scatter(mds_output['x'], mds_output['y'])\n",
    "for brand in inverse_lift_brands.index.values:\n",
    "    ax.text(mds_output.loc[brand, 'x']+0.02, mds_output.loc[brand, 'y']+0.02, brand)"
   ]
  },
  {
   "cell_type": "markdown",
   "metadata": {},
   "source": [
    "##  <font color='red'>Task B: Insights</fonr>\n",
    "TBD"
   ]
  },
  {
   "cell_type": "markdown",
   "metadata": {},
   "source": []
  },
  {
   "cell_type": "markdown",
   "metadata": {},
   "source": [
    "## Task C\n",
    "I went over 1500 words, picked and grouped words with intuition. \n",
    "\n",
    "Since professor said we don't have to do a sentiment analysis, I group positive and negative words together. For example, I grouped 'small' and 'large' into size attributes. \n",
    "\n",
    "Find 5 most frequently mentioned attributes."
   ]
  },
  {
   "cell_type": "code",
   "execution_count": 16,
   "metadata": {},
   "outputs": [],
   "source": [
    "# word_frequency[:500]"
   ]
  },
  {
   "cell_type": "code",
   "execution_count": 17,
   "metadata": {},
   "outputs": [],
   "source": [
    "attribute_dict = { \n",
    "    'performance': ['drive', 'engine', 'sport', 'driving', 'performance', 'power', 'spped', \n",
    "                    'fast', 'faster', 'sporty', 'horsepower', 'powerful'],\n",
    "    \n",
    "    'fuel_efficiency': ['mile', 'mileage', 'oil', 'diesel', 'mpg', 'gas', 'fuel'],\n",
    "    \n",
    "    'look': ['look', 'nice', 'looking', 'design', 'nicer', 'style', 'attractive', 'designed', 'looked'],\n",
    "    \n",
    "    'luxury': ['great', 'brand', 'luxury', 'best', 'premium'],\n",
    "    \n",
    "    'reliability': ['issue', 'problem', 'recall', 'trouble', 'concerned', 'suspension', 'reliable',\n",
    "                   'service', 'warranty', 'durability', 'quality'],\n",
    "    \n",
    "    'price': ['money', 'msrp', 'price', 'sale', 'offer', 'discount', 'bargain', 'grand', 'expensive',\n",
    "             'cheap', 'cheaper', 'incentive', 'worth'],\n",
    "    \n",
    "    'size': ['big', 'huge', 'large', 'size', 'weight', 'bigger', 'sticker', 'roof',\n",
    "            'little', 'small', 'light', 'smaller', 'biggest'],\n",
    "\n",
    "    'interior': ['seat', 'interior', 'leather', 'steering', 'inside', 'radio', 'noise', 'quiet'],\n",
    "\n",
    "    'experience': ['experience', 'speciall', 'interesting', 'impressive', 'surprised', 'amazing', \n",
    "                   'fun', 'happy', 'enthusiast'],\n",
    "    \n",
    "    'safety': ['safety', 'life', 'safe']}"
   ]
  },
  {
   "cell_type": "markdown",
   "metadata": {},
   "source": [
    "## Task C: Find top 5 attributes"
   ]
  },
  {
   "cell_type": "code",
   "execution_count": 18,
   "metadata": {},
   "outputs": [
    {
     "data": {
      "text/html": [
       "<div>\n",
       "<style scoped>\n",
       "    .dataframe tbody tr th:only-of-type {\n",
       "        vertical-align: middle;\n",
       "    }\n",
       "\n",
       "    .dataframe tbody tr th {\n",
       "        vertical-align: top;\n",
       "    }\n",
       "\n",
       "    .dataframe thead th {\n",
       "        text-align: right;\n",
       "    }\n",
       "</style>\n",
       "<table border=\"1\" class=\"dataframe\">\n",
       "  <thead>\n",
       "    <tr style=\"text-align: right;\">\n",
       "      <th></th>\n",
       "      <th>attribute_terms</th>\n",
       "      <th>count</th>\n",
       "    </tr>\n",
       "  </thead>\n",
       "  <tbody>\n",
       "    <tr>\n",
       "      <th>performance</th>\n",
       "      <td>[drive, engine, sport, driving, performance, p...</td>\n",
       "      <td>2646</td>\n",
       "    </tr>\n",
       "    <tr>\n",
       "      <th>price</th>\n",
       "      <td>[money, msrp, price, sale, offer, discount, ba...</td>\n",
       "      <td>2259</td>\n",
       "    </tr>\n",
       "    <tr>\n",
       "      <th>look</th>\n",
       "      <td>[look, nice, looking, design, nicer, style, at...</td>\n",
       "      <td>1863</td>\n",
       "    </tr>\n",
       "    <tr>\n",
       "      <th>size</th>\n",
       "      <td>[big, huge, large, size, weight, bigger, stick...</td>\n",
       "      <td>1716</td>\n",
       "    </tr>\n",
       "    <tr>\n",
       "      <th>luxury</th>\n",
       "      <td>[great, brand, luxury, best, premium]</td>\n",
       "      <td>1654</td>\n",
       "    </tr>\n",
       "  </tbody>\n",
       "</table>\n",
       "</div>"
      ],
      "text/plain": [
       "                                               attribute_terms  count\n",
       "performance  [drive, engine, sport, driving, performance, p...   2646\n",
       "price        [money, msrp, price, sale, offer, discount, ba...   2259\n",
       "look         [look, nice, looking, design, nicer, style, at...   1863\n",
       "size         [big, huge, large, size, weight, bigger, stick...   1716\n",
       "luxury                   [great, brand, luxury, best, premium]   1654"
      ]
     },
     "execution_count": 18,
     "metadata": {},
     "output_type": "execute_result"
    }
   ],
   "source": [
    "def count_attribute(df, attribute_terms):\n",
    "    return(np.sum(df['processed'].map(lambda x: len([term for term in attribute_terms if term in x])>=1 )))\n",
    "\n",
    "top_attributes = pd.DataFrame(pd.Series(attribute_dict), columns=['attribute_terms'])\n",
    "top_attributes['count'] = top_attributes['attribute_terms'].map(lambda x: count_attribute(df, x))\n",
    "\n",
    "top_attributes.sort_values(by=['count'], ascending=False)[:5]"
   ]
  },
  {
   "cell_type": "markdown",
   "metadata": {},
   "source": [
    "## Task C: Which attributes are most strongly associated with which of the top 5 brands?"
   ]
  },
  {
   "cell_type": "code",
   "execution_count": 19,
   "metadata": {},
   "outputs": [],
   "source": [
    "def lift_attribute_to_brands(attribute, attribute_dict, brand_list, df):\n",
    "    '''\n",
    "    attribute is a string\n",
    "    \n",
    "    attribute_dict is the dictionary whose keys are attibutes and values are words(attribute_terms).\n",
    "    \n",
    "    df is the processed dataframe contains processed comments \n",
    "    '''\n",
    "    attribute_terms = attribute_dict[attribute]\n",
    "    output = dict()\n",
    "    for brand in brand_list.index.values:\n",
    "        df_a = df[df['processed'].map(lambda x: len([term for term in attribute_terms if term in x])>=1)]\n",
    "        N_a = df_a.shape[0] # count of comments w/ attribute\n",
    "        N_b = sum(df['processed'].map(lambda x: brand in x)) # count of comments w/ brand\n",
    "        N = df['processed'].shape[0]\n",
    "        N_ab = sum(df_a['processed'].map(lambda x: brand in x)) # count of cooments w/ attribute and brand\n",
    "        \n",
    "        output[brand] = N*N_ab/(N_a*N_b)\n",
    "        \n",
    "    return(output)"
   ]
  },
  {
   "cell_type": "code",
   "execution_count": 20,
   "metadata": {},
   "outputs": [
    {
     "name": "stdout",
     "output_type": "stream",
     "text": [
      "performance\n",
      "audi        1.535607\n",
      "bmw         1.508026\n",
      "infiniti    1.471312\n",
      "honda       1.410509\n",
      "acura       1.366333\n",
      "dtype: float64\n",
      "\n",
      "fuel_efficiency\n",
      "honda       1.641091\n",
      "audi        1.424646\n",
      "acura       1.356557\n",
      "bmw         1.276385\n",
      "infiniti    1.180158\n",
      "dtype: float64\n",
      "\n",
      "look\n",
      "audi        1.629225\n",
      "acura       1.597290\n",
      "infiniti    1.591014\n",
      "honda       1.579228\n",
      "bmw         1.317249\n",
      "dtype: float64\n",
      "\n",
      "luxury\n",
      "infiniti    2.130851\n",
      "audi        1.908645\n",
      "acura       1.858200\n",
      "honda       1.835349\n",
      "bmw         1.497805\n",
      "dtype: float64\n",
      "\n",
      "reliability\n",
      "audi        1.778404\n",
      "honda       1.560677\n",
      "acura       1.527074\n",
      "bmw         1.499618\n",
      "infiniti    1.490724\n",
      "dtype: float64\n",
      "\n"
     ]
    }
   ],
   "source": [
    "brand_list = top10_brands[:5]\n",
    "\n",
    "for attribute in top_attributes.index.values[:5]:\n",
    "    print(attribute)\n",
    "    output = lift_attribute_to_brands(attribute, attribute_dict, brand_list, df)\n",
    "    output = pd.Series(output).sort_values(ascending=False)\n",
    "    print(output)\n",
    "    print('')"
   ]
  },
  {
   "cell_type": "markdown",
   "metadata": {},
   "source": [
    "## <font color='red'>Task D</font>\n",
    " TBD "
   ]
  },
  {
   "cell_type": "markdown",
   "metadata": {},
   "source": [
    "## Task E: The most aspirational brand \n",
    "### You can play around with different words by changing the words in the list below.\n",
    "\n",
    "We can also try bigram, trigram if possible."
   ]
  },
  {
   "cell_type": "code",
   "execution_count": 101,
   "metadata": {},
   "outputs": [],
   "source": [
    "aspiration_dict = { 'aspiration': ['want', 'like', 'best', 'love', 'wanted', 'dream'] }"
   ]
  },
  {
   "cell_type": "code",
   "execution_count": 102,
   "metadata": {},
   "outputs": [
    {
     "name": "stdout",
     "output_type": "stream",
     "text": [
      "mercedes-benz    1.641880\n",
      "infiniti         1.542057\n",
      "audi             1.514346\n",
      "toyota           1.492916\n",
      "honda            1.468704\n",
      "ford             1.445877\n",
      "acura            1.411781\n",
      "volkswagen       1.384729\n",
      "bmw              1.372234\n",
      "hyundai          1.353288\n",
      "dtype: float64\n",
      "\n"
     ]
    }
   ],
   "source": [
    "brand_list = top10_brands\n",
    "\n",
    "output = lift_attribute_to_brands('aspiration', aspiration_dict, brand_list, df)\n",
    "output = pd.Series(output).sort_values(ascending=False)\n",
    "print(output)\n",
    "print('')"
   ]
  }
 ],
 "metadata": {
  "kernelspec": {
   "display_name": "Python 3",
   "language": "python",
   "name": "python3"
  },
  "language_info": {
   "codemirror_mode": {
    "name": "ipython",
    "version": 3
   },
   "file_extension": ".py",
   "mimetype": "text/x-python",
   "name": "python",
   "nbconvert_exporter": "python",
   "pygments_lexer": "ipython3",
   "version": "3.6.8"
  }
 },
 "nbformat": 4,
 "nbformat_minor": 2
}
